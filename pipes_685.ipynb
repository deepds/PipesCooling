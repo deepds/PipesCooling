{
 "cells": [
  {
   "cell_type": "code",
   "execution_count": 1,
   "metadata": {
    "collapsed": true
   },
   "outputs": [],
   "source": [
    "import pandas as pd\n",
    "import numpy as np\n",
    "import re\n",
    "import os\n",
    "import multiprocessing as mp\n",
    "import matplotlib\n",
    "import matplotlib.pyplot as plt\n",
    "from sklearn.feature_selection import VarianceThreshold"
   ]
  },
  {
   "cell_type": "code",
   "execution_count": null,
   "metadata": {
    "collapsed": true
   },
   "outputs": [],
   "source": [
    "num_to_categ\n",
    "# GFC._Hmi2Gfc.Hmi2Gfc.GfcTailMskLenTop_SetV  :  8 \n",
    "\n",
    "# GFC._Hmi2Gfc.Hmi2Gfc.GfcTailMskLenBot_SetV  :  9 "
   ]
  },
  {
   "cell_type": "code",
   "execution_count": 2,
   "metadata": {
    "collapsed": true
   },
   "outputs": [],
   "source": [
    "data = pd.read_table('../relevant/data685.txt',index_col=False)"
   ]
  },
  {
   "cell_type": "code",
   "execution_count": 3,
   "metadata": {
    "collapsed": true
   },
   "outputs": [
    {
     "name": "stdout",
     "output_type": "stream",
     "text": [
      "GFC._Gfc2Hmi.Gfc2Hmi.GfcHmiBtmTopFlwRatioManRef_ActV  :  1 \n",
      "\n",
      "SCC._SccRtData.SccRtData.SccRefPrsPmp  :  1 \n",
      "\n",
      "THC.GlobVar.AccCtrlOutput_Cen.FlwCtrlAdj[21]  :  1 \n",
      "\n",
      "THC.GlobVar.AccCtrlOutput_Cen.FlwCtrlAdj[22]  :  1 \n",
      "\n",
      "THC.GlobVar.AccCtrlOutput_Cen.FlwCtrlAdj[23]  :  1 \n",
      "\n",
      "THC.GlobVar.AccCtrlOutput_Cen.FlwCtrlAdj[24]  :  1 \n",
      "\n",
      "THC.GlobVar.AccCtrlOutput_Out.FlwCtrlAdj[21]  :  1 \n",
      "\n",
      "THC.GlobVar.AccCtrlOutput_Out.SpecFlwAct[22]  :  1 \n",
      "\n",
      "THC.GlobVar.AccCtrlOutput_Out.FlwCtrlAdj[22]  :  1 \n",
      "\n",
      "THC.GlobVar.AccCtrlOutput_Out.SpecFlwAct[23]  :  1 \n",
      "\n",
      "THC.GlobVar.AccCtrlOutput_Out.FlwCtrlAdj[23]  :  1 \n",
      "\n",
      "THC.GlobVar.AccCtrlOutput_Out.SpecFlwAct[24]  :  1 \n",
      "\n",
      "THC.GlobVar.AccCtrlOutput_Out.FlwCtrlAdj[24]  :  1 \n",
      "\n",
      "THC.GlobVar.AccCtrlInput_Cen.SpecFlwRef[21]  :  1 \n",
      "\n",
      "THC.GlobVar.AccCtrlInput_Cen.SpecFlwRef[22]  :  1 \n",
      "\n",
      "THC.GlobVar.AccCtrlInput_Cen.SpecFlwRef[23]  :  1 \n",
      "\n",
      "THC.GlobVar.AccCtrlInput_Cen.SpecFlwRef[24]  :  1 \n",
      "\n",
      "THC.GlobVar.AccCtrlInput_Out.SpecFlwRef[21]  :  1 \n",
      "\n",
      "THC.GlobVar.AccCtrlInput_Out.SpecFlwRef[22]  :  1 \n",
      "\n",
      "THC.GlobVar.AccCtrlInput_Out.SpecFlwRef[23]  :  1 \n",
      "\n",
      "THC.GlobVar.AccCtrlInput_Out.SpecFlwRef[24]  :  1 \n",
      "\n",
      "THC.GlobVar.AccCtrlOutput_Cen.FlwCtrlAdj[25]  :  1 \n",
      "\n",
      "THC.GlobVar.AccCtrlOutput_Cen.FlwCtrlAdj[26]  :  1 \n",
      "\n",
      "THC.GlobVar.AccCtrlOutput_Cen.FlwCtrlAdj[27]  :  1 \n",
      "\n",
      "THC.GlobVar.AccCtrlOutput_Cen.FlwCtrlAdj[28]  :  1 \n",
      "\n",
      "THC.GlobVar.AccCtrlOutput_Cen.FlwCtrlAdj[29]  :  1 \n",
      "\n",
      "THC.GlobVar.AccCtrlOutput_Cen.FlwCtrlAdj[30]  :  1 \n",
      "\n",
      "THC.GlobVar.AccCtrlOutput_Cen.FlwCtrlAdj[31]  :  1 \n",
      "\n",
      "THC.GlobVar.AccCtrlOutput_Cen.FlwCtrlAdj[32]  :  1 \n",
      "\n",
      "THC.GlobVar.AccCtrlOutput_Out.FlwCtrlAdj[25]  :  1 \n",
      "\n",
      "THC.GlobVar.AccCtrlOutput_Out.SpecFlwAct[26]  :  1 \n",
      "\n",
      "THC.GlobVar.AccCtrlOutput_Out.FlwCtrlAdj[26]  :  1 \n",
      "\n",
      "THC.GlobVar.AccCtrlOutput_Out.SpecFlwAct[27]  :  1 \n",
      "\n",
      "THC.GlobVar.AccCtrlOutput_Out.FlwCtrlAdj[27]  :  1 \n",
      "\n",
      "THC.GlobVar.AccCtrlOutput_Out.SpecFlwAct[28]  :  1 \n",
      "\n",
      "THC.GlobVar.AccCtrlOutput_Out.FlwCtrlAdj[28]  :  1 \n",
      "\n",
      "THC.GlobVar.AccCtrlOutput_Out.FlwCtrlAdj[29]  :  1 \n",
      "\n",
      "THC.GlobVar.AccCtrlOutput_Out.SpecFlwAct[30]  :  1 \n",
      "\n",
      "THC.GlobVar.AccCtrlOutput_Out.FlwCtrlAdj[30]  :  1 \n",
      "\n",
      "THC.GlobVar.AccCtrlOutput_Out.SpecFlwAct[31]  :  1 \n",
      "\n",
      "THC.GlobVar.AccCtrlOutput_Out.FlwCtrlAdj[31]  :  1 \n",
      "\n",
      "THC.GlobVar.AccCtrlOutput_Out.SpecFlwAct[32]  :  1 \n",
      "\n",
      "THC.GlobVar.AccCtrlOutput_Out.FlwCtrlAdj[32]  :  1 \n",
      "\n",
      "THC.GlobVar.AccCtrlInput_Cen.SpecFlwRef[25]  :  1 \n",
      "\n",
      "THC.GlobVar.AccCtrlInput_Cen.SpecFlwRef[26]  :  1 \n",
      "\n",
      "THC.GlobVar.AccCtrlInput_Cen.SpecFlwRef[27]  :  1 \n",
      "\n",
      "THC.GlobVar.AccCtrlInput_Cen.SpecFlwRef[28]  :  1 \n",
      "\n",
      "THC.GlobVar.AccCtrlInput_Cen.SpecFlwRef[29]  :  1 \n",
      "\n",
      "THC.GlobVar.AccCtrlInput_Cen.SpecFlwRef[30]  :  1 \n",
      "\n",
      "THC.GlobVar.AccCtrlInput_Cen.SpecFlwRef[31]  :  1 \n",
      "\n",
      "THC.GlobVar.AccCtrlInput_Cen.SpecFlwRef[32]  :  1 \n",
      "\n",
      "THC.GlobVar.AccCtrlInput_Out.SpecFlwRef[25]  :  1 \n",
      "\n",
      "THC.GlobVar.AccCtrlInput_Out.SpecFlwRef[26]  :  1 \n",
      "\n",
      "THC.GlobVar.AccCtrlInput_Out.SpecFlwRef[27]  :  1 \n",
      "\n",
      "THC.GlobVar.AccCtrlInput_Out.SpecFlwRef[28]  :  1 \n",
      "\n",
      "THC.GlobVar.AccCtrlInput_Out.SpecFlwRef[29]  :  1 \n",
      "\n",
      "THC.GlobVar.AccCtrlInput_Out.SpecFlwRef[30]  :  1 \n",
      "\n",
      "THC.GlobVar.AccCtrlInput_Out.SpecFlwRef[31]  :  1 \n",
      "\n",
      "THC.GlobVar.AccCtrlInput_Out.SpecFlwRef[32]  :  1 \n",
      "\n",
      "THC.GlobVar.AccCtrlOutput_Cen.FlwCtrlAdj[33]  :  1 \n",
      "\n",
      "THC.GlobVar.AccCtrlOutput_Cen.FlwCtrlAdj[34]  :  1 \n",
      "\n",
      "THC.GlobVar.AccCtrlOutput_Cen.FlwCtrlAdj[35]  :  1 \n",
      "\n",
      "THC.GlobVar.AccCtrlOutput_Cen.FlwCtrlAdj[36]  :  1 \n",
      "\n",
      "THC.GlobVar.AccCtrlOutput_Out.FlwCtrlAdj[33]  :  1 \n",
      "\n",
      "THC.GlobVar.AccCtrlOutput_Out.SpecFlwAct[34]  :  1 \n",
      "\n",
      "THC.GlobVar.AccCtrlOutput_Out.FlwCtrlAdj[34]  :  1 \n",
      "\n",
      "THC.GlobVar.AccCtrlOutput_Out.SpecFlwAct[35]  :  1 \n",
      "\n",
      "THC.GlobVar.AccCtrlOutput_Out.FlwCtrlAdj[35]  :  1 \n",
      "\n",
      "THC.GlobVar.AccCtrlOutput_Out.SpecFlwAct[36]  :  1 \n",
      "\n",
      "THC.GlobVar.AccCtrlOutput_Out.FlwCtrlAdj[36]  :  1 \n",
      "\n",
      "THC.GlobVar.AccCtrlInput_Cen.SpecFlwRef[33]  :  1 \n",
      "\n",
      "THC.GlobVar.AccCtrlInput_Cen.SpecFlwRef[34]  :  1 \n",
      "\n",
      "THC.GlobVar.AccCtrlInput_Cen.SpecFlwRef[35]  :  1 \n",
      "\n",
      "THC.GlobVar.AccCtrlInput_Cen.SpecFlwRef[36]  :  1 \n",
      "\n",
      "THC.GlobVar.AccCtrlInput_Out.SpecFlwRef[33]  :  1 \n",
      "\n",
      "THC.GlobVar.AccCtrlInput_Out.SpecFlwRef[34]  :  1 \n",
      "\n",
      "THC.GlobVar.AccCtrlInput_Out.SpecFlwRef[35]  :  1 \n",
      "\n",
      "THC.GlobVar.AccCtrlInput_Out.SpecFlwRef[36]  :  1 \n",
      "\n",
      "BHC.GlobVar.AccCtrlOutput_Cen.FlwCtrlAdj[21]  :  1 \n",
      "\n",
      "BHC.GlobVar.AccCtrlOutput_Cen.FlwCtrlAdj[22]  :  1 \n",
      "\n",
      "BHC.GlobVar.AccCtrlOutput_Cen.FlwCtrlAdj[23]  :  1 \n",
      "\n",
      "BHC.GlobVar.AccCtrlOutput_Cen.FlwCtrlAdj[24]  :  1 \n",
      "\n",
      "BHC.GlobVar.AccCtrlOutput_Out.FlwCtrlAdj[21]  :  1 \n",
      "\n",
      "BHC.GlobVar.AccCtrlOutput_Out.FlwCtrlAdj[22]  :  1 \n",
      "\n",
      "BHC.GlobVar.AccCtrlOutput_Out.FlwCtrlAdj[23]  :  1 \n",
      "\n",
      "BHC.GlobVar.AccCtrlOutput_Out.FlwCtrlAdj[24]  :  1 \n",
      "\n",
      "BHC.GlobVar.AccCtrlInput_Out.FlwCtrlAdjFbk[18]  :  2 \n",
      "\n",
      "BHC.GlobVar.AccCtrlInput_Cen.SpecFlwRef[21]  :  1 \n",
      "\n",
      "BHC.GlobVar.AccCtrlInput_Cen.SpecFlwRef[22]  :  1 \n",
      "\n",
      "BHC.GlobVar.AccCtrlInput_Cen.SpecFlwRef[23]  :  1 \n",
      "\n",
      "BHC.GlobVar.AccCtrlInput_Cen.SpecFlwRef[24]  :  1 \n",
      "\n",
      "BHC.GlobVar.AccCtrlInput_Out.SpecFlwRef[21]  :  1 \n",
      "\n",
      "BHC.GlobVar.AccCtrlInput_Out.SpecFlwRef[22]  :  1 \n",
      "\n",
      "BHC.GlobVar.AccCtrlInput_Out.SpecFlwRef[23]  :  1 \n",
      "\n",
      "BHC.GlobVar.AccCtrlInput_Out.SpecFlwRef[24]  :  1 \n",
      "\n",
      "BHC.GlobVar.AccCtrlOutput_Cen.FlwCtrlAdj[25]  :  1 \n",
      "\n",
      "BHC.GlobVar.AccCtrlOutput_Cen.FlwCtrlAdj[26]  :  1 \n",
      "\n",
      "BHC.GlobVar.AccCtrlOutput_Cen.FlwCtrlAdj[27]  :  1 \n",
      "\n",
      "BHC.GlobVar.AccCtrlOutput_Cen.FlwCtrlAdj[28]  :  1 \n",
      "\n",
      "BHC.GlobVar.AccCtrlOutput_Cen.FlwCtrlAdj[29]  :  1 \n",
      "\n",
      "BHC.GlobVar.AccCtrlOutput_Cen.FlwCtrlAdj[30]  :  1 \n",
      "\n",
      "BHC.GlobVar.AccCtrlOutput_Cen.FlwCtrlAdj[31]  :  1 \n",
      "\n",
      "BHC.GlobVar.AccCtrlOutput_Cen.FlwCtrlAdj[32]  :  1 \n",
      "\n",
      "BHC.GlobVar.AccCtrlOutput_Out.FlwCtrlAdj[25]  :  1 \n",
      "\n",
      "BHC.GlobVar.AccCtrlOutput_Out.FlwCtrlAdj[26]  :  1 \n",
      "\n",
      "BHC.GlobVar.AccCtrlOutput_Out.FlwCtrlAdj[27]  :  1 \n",
      "\n",
      "BHC.GlobVar.AccCtrlOutput_Out.FlwCtrlAdj[28]  :  1 \n",
      "\n",
      "BHC.GlobVar.AccCtrlOutput_Out.FlwCtrlAdj[29]  :  1 \n",
      "\n",
      "BHC.GlobVar.AccCtrlOutput_Out.FlwCtrlAdj[30]  :  1 \n",
      "\n",
      "BHC.GlobVar.AccCtrlOutput_Out.FlwCtrlAdj[31]  :  1 \n",
      "\n",
      "BHC.GlobVar.AccCtrlOutput_Out.FlwCtrlAdj[32]  :  1 \n",
      "\n",
      "BHC.GlobVar.AccCtrlInput_Cen.SpecFlwRef[25]  :  1 \n",
      "\n",
      "BHC.GlobVar.AccCtrlInput_Cen.SpecFlwRef[26]  :  1 \n",
      "\n",
      "BHC.GlobVar.AccCtrlInput_Cen.SpecFlwRef[27]  :  1 \n",
      "\n",
      "BHC.GlobVar.AccCtrlInput_Cen.SpecFlwRef[28]  :  1 \n",
      "\n",
      "BHC.GlobVar.AccCtrlInput_Cen.SpecFlwRef[29]  :  1 \n",
      "\n",
      "BHC.GlobVar.AccCtrlInput_Cen.SpecFlwRef[30]  :  1 \n",
      "\n",
      "BHC.GlobVar.AccCtrlInput_Cen.SpecFlwRef[31]  :  1 \n",
      "\n",
      "BHC.GlobVar.AccCtrlInput_Cen.SpecFlwRef[32]  :  1 \n",
      "\n",
      "BHC.GlobVar.AccCtrlInput_Out.SpecFlwRef[25]  :  1 \n",
      "\n",
      "BHC.GlobVar.AccCtrlInput_Out.SpecFlwRef[26]  :  1 \n",
      "\n",
      "BHC.GlobVar.AccCtrlInput_Out.SpecFlwRef[27]  :  1 \n",
      "\n",
      "BHC.GlobVar.AccCtrlInput_Out.SpecFlwRef[28]  :  1 \n",
      "\n",
      "BHC.GlobVar.AccCtrlInput_Out.SpecFlwRef[29]  :  1 \n",
      "\n",
      "BHC.GlobVar.AccCtrlInput_Out.SpecFlwRef[30]  :  1 \n",
      "\n",
      "BHC.GlobVar.AccCtrlInput_Out.SpecFlwRef[31]  :  1 \n",
      "\n",
      "BHC.GlobVar.AccCtrlInput_Out.SpecFlwRef[32]  :  1 \n",
      "\n",
      "BHC.GlobVar.AccCtrlOutput_Cen.FlwCtrlAdj[33]  :  1 \n",
      "\n",
      "BHC.GlobVar.AccCtrlOutput_Cen.FlwCtrlAdj[34]  :  1 \n",
      "\n",
      "BHC.GlobVar.AccCtrlOutput_Cen.FlwCtrlAdj[35]  :  1 \n",
      "\n",
      "BHC.GlobVar.AccCtrlOutput_Cen.FlwCtrlAdj[36]  :  1 \n",
      "\n",
      "BHC.GlobVar.AccCtrlOutput_Out.FlwCtrlAdj[33]  :  1 \n",
      "\n",
      "BHC.GlobVar.AccCtrlOutput_Out.FlwCtrlAdj[34]  :  1 \n",
      "\n",
      "BHC.GlobVar.AccCtrlOutput_Out.FlwCtrlAdj[35]  :  1 \n",
      "\n",
      "BHC.GlobVar.AccCtrlOutput_Out.FlwCtrlAdj[36]  :  1 \n",
      "\n",
      "BHC.GlobVar.AccCtrlInput_Cen.SpecFlwRef[33]  :  1 \n",
      "\n",
      "BHC.GlobVar.AccCtrlInput_Cen.SpecFlwRef[34]  :  1 \n",
      "\n",
      "BHC.GlobVar.AccCtrlInput_Cen.SpecFlwRef[35]  :  1 \n",
      "\n",
      "BHC.GlobVar.AccCtrlInput_Cen.SpecFlwRef[36]  :  1 \n",
      "\n",
      "BHC.GlobVar.AccCtrlInput_Out.SpecFlwRef[33]  :  1 \n",
      "\n",
      "BHC.GlobVar.AccCtrlInput_Out.SpecFlwRef[34]  :  1 \n",
      "\n",
      "BHC.GlobVar.AccCtrlInput_Out.SpecFlwRef[35]  :  1 \n",
      "\n",
      "BHC.GlobVar.AccCtrlInput_Out.SpecFlwRef[36]  :  1 \n",
      "\n"
     ]
    }
   ],
   "source": [
    "todrop = []\n",
    "for col in [c for c in data.columns if data[c].dtype.name != 'object']:\n",
    "    if len(data[col].unique())<2:\n",
    "        todrop.append(col)\n",
    "        print col, ' : ', len(data[col].unique()), '\\n'"
   ]
  },
  {
   "cell_type": "code",
   "execution_count": 4,
   "metadata": {
    "collapsed": true
   },
   "outputs": [],
   "source": [
    "data.drop(todrop, axis=1, inplace=1)"
   ]
  },
  {
   "cell_type": "code",
   "execution_count": 47,
   "metadata": {
    "collapsed": true
   },
   "outputs": [],
   "source": [
    "def VarianceThreshold_selector(X):\n",
    "    columns = X.columns\n",
    "    selector = VarianceThreshold(threshold=(.99*(1-.99)))\n",
    "    selector.fit_transform(X)\n",
    "    labels = [columns[x] for x in selector.get_support(indices=True) if x]\n",
    "    return pd.DataFrame(X[labels], columns=labels)\n",
    "\n",
    "numerical_columns = [c for c in data.columns if data[c].dtype.name != 'object']"
   ]
  },
  {
   "cell_type": "code",
   "execution_count": 7,
   "metadata": {
    "collapsed": true
   },
   "outputs": [],
   "source": [
    "data1_temp = data.loc[(data['GSF.GlobVar.AccTrkMap.PosHeadCol[1]']>139)&(data['GFC.GlobVar.AccTrkMap.PosTailCol[1]']<206)]\n",
    "data2_temp = data.loc[(data['GSF.GlobVar.AccTrkMap.PosHeadCol[2]']>139)&(data['GFC.GlobVar.AccTrkMap.PosTailCol[2]']<206)]"
   ]
  },
  {
   "cell_type": "code",
   "execution_count": 8,
   "metadata": {
    "collapsed": true
   },
   "outputs": [],
   "source": [
    "data1 = data.loc[(data['GSF.GlobVar.AccTrkMap.PosHeadCol[1]']>=148.83)&(data['GFC.GlobVar.AccTrkMap.PosTailCol[2]']<=185.83)]\n",
    "data2 = data.loc[(data['GSF.GlobVar.AccTrkMap.PosHeadCol[2]']>=148.83)&(data['GFC.GlobVar.AccTrkMap.PosTailCol[2]']<=185.83)]"
   ]
  },
  {
   "cell_type": "code",
   "execution_count": 48,
   "metadata": {
    "collapsed": true
   },
   "outputs": [],
   "source": [
    "data1_var = VarianceThreshold_selector(data1[numerical_columns])\n",
    "data2_var = VarianceThreshold_selector(data2[numerical_columns])"
   ]
  },
  {
   "cell_type": "code",
   "execution_count": 107,
   "metadata": {},
   "outputs": [
    {
     "data": {
      "text/plain": [
       "['GFC.GlobVar.AccTrkMap.PltSpdCol[2]']"
      ]
     },
     "execution_count": 107,
     "metadata": {},
     "output_type": "execute_result"
    }
   ],
   "source": [
    "[col for col in data1_var.columns if col not in data2_var.columns]"
   ]
  },
  {
   "cell_type": "code",
   "execution_count": 108,
   "metadata": {},
   "outputs": [
    {
     "data": {
      "text/plain": [
       "['GFC.GlobVar.GfcLocRtData.GfcSccWatPrsScc',\n",
       " 'BHC.GlobVar.AccCtrlInput_Out.FlwCtrlAdjFbk[21]']"
      ]
     },
     "execution_count": 108,
     "metadata": {},
     "output_type": "execute_result"
    }
   ],
   "source": [
    "[col for col in data2_var.columns if col not in data1_var.columns]"
   ]
  },
  {
   "cell_type": "code",
   "execution_count": 111,
   "metadata": {},
   "outputs": [
    {
     "data": {
      "text/plain": [
       "240.113"
      ]
     },
     "execution_count": 111,
     "metadata": {},
     "output_type": "execute_result"
    }
   ],
   "source": [
    "data1.loc[data1['GFC.GlobVar.AccTrkMap.PltSpdCol[2]']<0]['GSF.GlobVar.AccTrkMap.PosHeadCol[1]'].max()"
   ]
  },
  {
   "cell_type": "code",
   "execution_count": 55,
   "metadata": {},
   "outputs": [
    {
     "data": {
      "text/plain": [
       "0.13960211328233052"
      ]
     },
     "execution_count": 55,
     "metadata": {},
     "output_type": "execute_result"
    }
   ],
   "source": [
    "np.var(data1['GFC.GlobVar.AccTrkMap.PltSpdCol[1]'])"
   ]
  },
  {
   "cell_type": "code",
   "execution_count": 27,
   "metadata": {},
   "outputs": [
    {
     "data": {
      "text/plain": [
       "(135448, 543)"
      ]
     },
     "execution_count": 27,
     "metadata": {},
     "output_type": "execute_result"
    }
   ],
   "source": [
    "data2.shape"
   ]
  },
  {
   "cell_type": "code",
   "execution_count": 50,
   "metadata": {},
   "outputs": [
    {
     "data": {
      "text/plain": [
       "(135448, 489)"
      ]
     },
     "execution_count": 50,
     "metadata": {},
     "output_type": "execute_result"
    }
   ],
   "source": [
    "data2_var.shape"
   ]
  },
  {
   "cell_type": "code",
   "execution_count": 95,
   "metadata": {},
   "outputs": [
    {
     "data": {
      "text/plain": [
       "0.55719700000000005"
      ]
     },
     "execution_count": 95,
     "metadata": {},
     "output_type": "execute_result"
    }
   ],
   "source": [
    " data2['GFC.GlobVar.AccTrkMap.PltSpdCol[2]'].min()"
   ]
  },
  {
   "cell_type": "code",
   "execution_count": null,
   "metadata": {
    "collapsed": true
   },
   "outputs": [],
   "source": [
    "data1.id1.unique().tolist()"
   ]
  },
  {
   "cell_type": "code",
   "execution_count": 236,
   "metadata": {},
   "outputs": [
    {
     "name": "stdout",
     "output_type": "stream",
     "text": [
      "249531\n",
      "135448\n",
      "545708\n",
      "384979\n"
     ]
    }
   ],
   "source": [
    "print len(data1)\n",
    "print len(data2)\n",
    "print len(data)\n",
    "print len(data1)+len(data2)"
   ]
  },
  {
   "cell_type": "code",
   "execution_count": 237,
   "metadata": {
    "collapsed": true
   },
   "outputs": [
    {
     "name": "stderr",
     "output_type": "stream",
     "text": [
      "/home/gis/anaconda2/lib/python2.7/site-packages/ipykernel/__main__.py:1: SettingWithCopyWarning: \n",
      "A value is trying to be set on a copy of a slice from a DataFrame.\n",
      "Try using .loc[row_indexer,col_indexer] = value instead\n",
      "\n",
      "See the caveats in the documentation: http://pandas.pydata.org/pandas-docs/stable/indexing.html#indexing-view-versus-copy\n",
      "  if __name__ == '__main__':\n",
      "/home/gis/anaconda2/lib/python2.7/site-packages/ipykernel/__main__.py:2: SettingWithCopyWarning: \n",
      "A value is trying to be set on a copy of a slice from a DataFrame.\n",
      "Try using .loc[row_indexer,col_indexer] = value instead\n",
      "\n",
      "See the caveats in the documentation: http://pandas.pydata.org/pandas-docs/stable/indexing.html#indexing-view-versus-copy\n",
      "  from ipykernel import kernelapp as app\n",
      "/home/gis/anaconda2/lib/python2.7/site-packages/ipykernel/__main__.py:4: SettingWithCopyWarning: \n",
      "A value is trying to be set on a copy of a slice from a DataFrame.\n",
      "Try using .loc[row_indexer,col_indexer] = value instead\n",
      "\n",
      "See the caveats in the documentation: http://pandas.pydata.org/pandas-docs/stable/indexing.html#indexing-view-versus-copy\n",
      "/home/gis/anaconda2/lib/python2.7/site-packages/ipykernel/__main__.py:5: SettingWithCopyWarning: \n",
      "A value is trying to be set on a copy of a slice from a DataFrame.\n",
      "Try using .loc[row_indexer,col_indexer] = value instead\n",
      "\n",
      "See the caveats in the documentation: http://pandas.pydata.org/pandas-docs/stable/indexing.html#indexing-view-versus-copy\n"
     ]
    }
   ],
   "source": [
    "data1_temp['pltid'] = data1['id1']\n",
    "data2_temp['pltid'] = data2['id2']\n",
    "\n",
    "data1['pltid'] = data1['id1']\n",
    "data2['pltid'] = data2['id2']"
   ]
  },
  {
   "cell_type": "code",
   "execution_count": null,
   "metadata": {
    "collapsed": true
   },
   "outputs": [],
   "source": [
    "num_to_categ\n",
    "# GFC._Hmi2Gfc.Hmi2Gfc.GfcTailMskLenTop_SetV  :  8 \n",
    "\n",
    "# GFC._Hmi2Gfc.Hmi2Gfc.GfcTailMskLenBot_SetV  :  9 "
   ]
  },
  {
   "cell_type": "code",
   "execution_count": 96,
   "metadata": {},
   "outputs": [
    {
     "data": {
      "text/plain": [
       "-0.95569400000000004"
      ]
     },
     "execution_count": 96,
     "metadata": {},
     "output_type": "execute_result"
    }
   ],
   "source": [
    "data1_var['GFC.GlobVar.AccTrkMap.PltSpdCol[1]'].min()\n"
   ]
  },
  {
   "cell_type": "code",
   "execution_count": 92,
   "metadata": {
    "collapsed": true
   },
   "outputs": [],
   "source": [
    "c = data1.loc[data1['GFC.GlobVar.AccTrkMap.PltSpdCol[1]']>2.5].id1.unique().tolist()"
   ]
  },
  {
   "cell_type": "code",
   "execution_count": 232,
   "metadata": {},
   "outputs": [
    {
     "data": {
      "image/png": "[encoded data removed]",
      "text/plain": [
       "<matplotlib.figure.Figure at 0x7f0e5e8b73d0>"
      ]
     },
     "metadata": {},
     "output_type": "display_data"
    }
   ],
   "source": [
    "(data1.loc[data1.pltid== 2016092300590000]['PRC.GlobVar.PrcLocRtData.Prc1PosRef'] - data1.loc[data1.pltid== 2016092300590000]['PRC.GlobVar.PrcLocRtData.PrcPosActDs1']).plot()\n",
    "plt.show()"
   ]
  },
  {
   "cell_type": "code",
   "execution_count": 59,
   "metadata": {
    "collapsed": true
   },
   "outputs": [],
   "source": [
    "l = pd.read_csv('../relevant/dataset120517.csv', sep=';') #"
   ]
  },
  {
   "cell_type": "code",
   "execution_count": 75,
   "metadata": {},
   "outputs": [
    {
     "data": {
      "text/plain": [
       "85"
      ]
     },
     "execution_count": 75,
     "metadata": {},
     "output_type": "execute_result"
    }
   ],
   "source": [
    "l.loc[(l.NOT_IN_40_0C==0)]['IS_FIRST'].sum()"
   ]
  },
  {
   "cell_type": "code",
   "execution_count": 60,
   "metadata": {},
   "outputs": [
    {
     "data": {
      "text/plain": [
       "4032    549.561035\n",
       "Name: TMP_STP_ALL_AVG, dtype: float64"
      ]
     },
     "execution_count": 60,
     "metadata": {},
     "output_type": "execute_result"
    }
   ],
   "source": [
    "l.loc[l.PIECE_ID==2016101701240000]['TMP_STP_ALL_AVG']"
   ]
  },
  {
   "cell_type": "code",
   "execution_count": 100,
   "metadata": {},
   "outputs": [
    {
     "data": {
      "text/plain": [
       "0.0106951871657754"
      ]
     },
     "execution_count": 100,
     "metadata": {},
     "output_type": "execute_result"
    }
   ],
   "source": [
    "\n",
    "\n",
    "l.loc[l.PIECE_ID.isin(data1.id1.unique().tolist())]['NOT_IN_40_0C'].sum()/float(len(data1.id1.unique()))"
   ]
  },
  {
   "cell_type": "code",
   "execution_count": 105,
   "metadata": {},
   "outputs": [
    {
     "data": {
      "text/plain": [
       "1870.0"
      ]
     },
     "execution_count": 105,
     "metadata": {},
     "output_type": "execute_result"
    }
   ],
   "source": [
    "float(len(data1.id1.unique()))"
   ]
  },
  {
   "cell_type": "code",
   "execution_count": 104,
   "metadata": {},
   "outputs": [
    {
     "data": {
      "text/plain": [
       "0.0035026269702276708"
      ]
     },
     "execution_count": 104,
     "metadata": {},
     "output_type": "execute_result"
    }
   ],
   "source": [
    "l.loc[l.PIECE_ID.isin(data2.id2.unique().tolist())]['NOT_IN_40_0C'].sum()/float(len(data2.id2.unique()))"
   ]
  },
  {
   "cell_type": "code",
   "execution_count": null,
   "metadata": {
    "collapsed": true
   },
   "outputs": [],
   "source": [
    "l.loc[l.PIECE_ID.isin(data1.id1.unique().tolist())]['NOT_IN_40_0C'].sum()"
   ]
  },
  {
   "cell_type": "code",
   "execution_count": 32,
   "metadata": {},
   "outputs": [
    {
     "data": {
      "text/plain": [
       "0    9310\n",
       "1      66\n",
       "Name: NOT_IN_40_0C, dtype: int64"
      ]
     },
     "execution_count": 32,
     "metadata": {},
     "output_type": "execute_result"
    }
   ],
   "source": [
    "l.NOT_IN_40_0C.value_counts()"
   ]
  },
  {
   "cell_type": "code",
   "execution_count": 6,
   "metadata": {
    "collapsed": true
   },
   "outputs": [],
   "source": [
    "#sort by time\n",
    "# dist btw lists\n",
    "#время охлаждения\n",
    "df = pd.concat([data1, data2],ignore_index=1)"
   ]
  }
 ],
 "metadata": {
  "anaconda-cloud": {},
  "kernelspec": {
   "display_name": "Python [default]",
   "language": "python",
   "name": "python2"
  },
  "language_info": {
   "codemirror_mode": {
    "name": "ipython",
    "version": 2
   },
   "file_extension": ".py",
   "mimetype": "text/x-python",
   "name": "python",
   "nbconvert_exporter": "python",
   "pygments_lexer": "ipython2",
   "version": "2.7.13"
  }
 },
 "nbformat": 4,
 "nbformat_minor": 2
}
