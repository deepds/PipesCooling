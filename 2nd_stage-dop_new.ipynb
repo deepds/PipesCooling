{
 "cells": [
  {
   "cell_type": "code",
   "execution_count": 27,
   "metadata": {
    "collapsed": false
   },
   "outputs": [],
   "source": [
    "import pandas as pd\n",
    "import numpy as np\n",
    "from sklearn.utils import shuffle\n",
    "from sklearn.linear_model import Ridge, RidgeCV, ElasticNet, LassoCV,Lasso, LassoLarsCV, LinearRegression,RANSACRegressor\n",
    "from sklearn.model_selection import cross_val_score,KFold,train_test_split,cross_val_predict, StratifiedKFold\n",
    "from sklearn.metrics import *\n",
    "from sklearn.preprocessing import StandardScaler\n",
    "from sklearn.linear_model import LogisticRegression\n",
    "import xgboost as xgb\n",
    "from sklearn.ensemble import *\n",
    "from sklearn.model_selection import GridSearchCV\n",
    "from xgboost import XGBClassifier\n",
    "from sklearn.tree import DecisionTreeClassifier\n",
    "from pandas.tools.plotting import scatter_matrix\n",
    "import statsmodels.formula.api as sm\n",
    "from scipy.stats import norm\n",
    "from statsmodels.stats.weightstats import _zconfint_generic, _tconfint_generic\n",
    "import datetime \n",
    "from  datetime  import datetime as dt \n",
    "from scipy import stats\n",
    "import operator\n",
    "from sklearn import cross_validation, grid_search, linear_model, metrics\n",
    "\n",
    "from sklearn.feature_selection import VarianceThreshold\n",
    "import re\n",
    "import warnings \n",
    "warnings.filterwarnings(\"ignore\")\n",
    "import seaborn as sns\n",
    "import matplotlib\n",
    "\n",
    "import matplotlib.pyplot as plt\n",
    "from scipy.stats import skew\n",
    "from scipy.stats.stats import pearsonr\n",
    "\n",
    "\n",
    "%config InlineBackend.figure_format = 'png' #set 'png' here when working on notebook\n",
    "%matplotlib inline"
   ]
  },
  {
   "cell_type": "code",
   "execution_count": 28,
   "metadata": {
    "collapsed": false
   },
   "outputs": [],
   "source": [
    "data = pd.read_csv('dataset100717.csv', sep=';') #\n",
    "data = data.loc[data.IS_FIRST==0]\n",
    "agg68 = pd.read_csv('done686.csv', sep=';') \n",
    "agg68.drop([x for x in agg68.columns if x.endswith('_median')], inplace=1, axis =1)\n",
    "\n",
    "data = data.loc[(data['TMP_STP_ALL_AVG']>360)&(data['TMP_STP_ALL_AVG']<700)&(data.TEMP_START_PHASE1!=0)&((data.ADAPTATION_KEY==190409109015)|(data.ADAPTATION_KEY==190309109015))]\n",
    "\n",
    "data.drop(['TMP_STRT_HED_AVG_M','TMP_STRT_TAIL_AVG_M', 'PROFILE_SDV', u'PROFILE_MIN', u'PROFILE_AVG', u'PROFILE_MAX'], axis=1, inplace=True)\n",
    "data = data.dropna()"
   ]
  },
  {
   "cell_type": "code",
   "execution_count": 29,
   "metadata": {
    "collapsed": false
   },
   "outputs": [],
   "source": [
    "data['Vol'] = data['PLT_TCK']*data['PLT_WID']*data['PLT_LEN']*1e-09\n",
    "data['MEAS_TIME'] = data['MEAS_TIME'].apply(lambda x: dt.strptime(x, \"%d.%m.%y %H:%M:%S\"))\n",
    "data['PREV_MEAS_TIME'] = data['PREV_MEAS_TIME'].apply(lambda x: dt.strptime(x, \"%d.%m.%y %H:%M:%S\"))\n",
    "\n",
    "data['hour'] = 0\n",
    "data['hour'] = data['MEAS_TIME'].apply(lambda x: x.hour)\n",
    "\n",
    "\n",
    "data['diff_mins'] = data['MEAS_TIME'] - data['PREV_MEAS_TIME']\n",
    "data['diff_mins'] = data['diff_mins'].apply(lambda x: round(x.total_seconds()/60,2))\n",
    "# data['weekday'] = data['MEAS_TIME'].apply(lambda x: x.weekday())\n",
    "\n",
    "data['prev_fail'] = data['NOT_IN_25_0C'].shift().fillna(0) \n",
    "data['CR_PREV'] = (data['CR_ACT'] - data['CR']).shift().fillna((data['CR_ACT'] - data['CR']).median())  \n",
    "data['TMP_STP_ALL_PREV'] = data['TMP_STP_ALL_AVG'].shift().fillna(data.TMP_STP_ALL_AVG.median())  \n",
    "\n",
    "data['ADAPT_TS_MEAN_PREV'] = data['ADAPT_TS_MEAN'].shift().fillna(data.ADAPT_TS_MEAN.median())  \n",
    "\n",
    "data['ADAPT_CR_PREV'] = data['ADAPT_CR'].shift().fillna(data.ADAPT_CR.median())  \n",
    "\n",
    "data['daypart'] = 0\n",
    "data.ix[(data.hour>8)&(data.hour<=12), 'daypart'] = 1\n",
    "data.ix[(data.hour>12)&(data.hour<=16), 'daypart'] = 2\n",
    "data.ix[(data.hour>16)&(data.hour<=20), 'daypart'] = 3\n",
    "data.ix[(data.hour>20)&(data.hour<=23), 'daypart'] = 4\n",
    "\n",
    "\n",
    "\n",
    "for col in [u'WATER_FLOW_SPRAY_TOP', u'WATER_FLOW_SPRAY_BOTTOM']:\n",
    "    data[col] = data[col].apply(lambda x: x.split('|'))\n",
    "    data.ix[data[col].apply(lambda x: len(x))>4, col] = data[col].apply(lambda s: map('.'.join, zip(s[::2], s[1::2])))\n",
    "    \n",
    "for col in [ u'WATER_FLOW_LAM_INNER_TOP', u'WATER_FLOW_LAM_OUTER_TOP',\n",
    "       u'WATER_FLOW_LAM_INNER_BOT', u'WATER_FLOW_LAM_OUTER_BOT']:\n",
    "    data[col] = data[col].apply(lambda x: x.split('|'))\n",
    "    data.ix[data[col].apply(lambda x: len(x))>36, col] = data[col].apply(lambda s: map('.'.join, zip(s[::2], s[1::2])))\n",
    "    \n",
    "for col in [ 'EDGE_MASKING_POS_DRIVE_SIDE', 'EDGE_MASKING_POS_OP_SIDE', 'BANKS_HEIGHT']:\n",
    "    data[col] = data[col].apply(lambda x: x.split('|'))\n",
    "    data.ix[data[col].apply(lambda x: len(x))>9, col] = data[col].apply(lambda s: map('.'.join, zip(s[::2], s[1::2])))\n",
    "    \n",
    "    \n",
    "for col in [u'WATER_FLOW_SPRAY_TOP', u'WATER_FLOW_SPRAY_BOTTOM', u'WATER_FLOW_LAM_INNER_TOP', u'WATER_FLOW_LAM_OUTER_TOP',\n",
    "       u'WATER_FLOW_LAM_INNER_BOT', u'WATER_FLOW_LAM_OUTER_BOT','EDGE_MASKING_POS_DRIVE_SIDE', 'EDGE_MASKING_POS_OP_SIDE', 'BANKS_HEIGHT'] :\n",
    "    data[col] = data[col].apply(lambda x: [float(i) for i in x])\n",
    "    \n",
    "\n",
    "    \n",
    "for col in [u'WATER_FLOW_SPRAY_TOP', u'WATER_FLOW_SPRAY_BOTTOM', u'WATER_FLOW_LAM_INNER_TOP', u'WATER_FLOW_LAM_OUTER_TOP',\n",
    "       u'WATER_FLOW_LAM_INNER_BOT', u'WATER_FLOW_LAM_OUTER_BOT','EDGE_MASKING_POS_DRIVE_SIDE', 'EDGE_MASKING_POS_OP_SIDE', 'BANKS_HEIGHT'] :\n",
    "    data[col] = data[col].apply(lambda x: np.mean(x))\n",
    "    \n",
    "    \n",
    "    \n",
    "for col in ['SIDE_SPRAY', 'AIR_BLOWER'] :\n",
    "    data[col] = data[col].apply(lambda x: str(x.count('0')))\n",
    "    \n",
    "\n",
    "\n",
    "agg68.rename(columns={'pltid':'PIECE_ID'}, inplace=1)\n",
    "\n",
    "df = pd.merge(agg68, data, on='PIECE_ID')    \n",
    "\n",
    "\n",
    "\n",
    "# df['outcome'] = 0\n",
    "# df.ix[(df.NOT_IN_40_0C==1)&(df.TMP_STP_ALL_AVG>510), 'outcome']=1\n",
    "\n",
    "# df.ix[(df.NOT_IN_40_0C==1)&(df.TMP_STP_ALL_AVG<450), 'outcome']=2\n",
    "\n",
    "# df.ix[(df.NOT_IN_25_0C==1)&(df.TMP_STP_ALL_AVG>480), 'outcome']=1\n",
    "\n",
    "# df.ix[(df.NOT_IN_25_0C==1)&(df.TMP_STP_ALL_AVG<480),'outcome']=2\n",
    "\n",
    "flowsum_cols = [x for x in df.columns if ('flow' in x or 'SpecFlw' in x ) and ('sum' in x or 'SUM' in x)]\n",
    "df[flowsum_cols] = df[flowsum_cols].apply(lambda x: (x/60)*df['time'])\n",
    "df.fillna(0, axis=1, inplace=1)\n",
    "\n",
    "flow_cols = [x for x in data.columns if 'Flw' in x and ('WatAbs' not in x) and ('Ratio' not in x)]\n",
    "\n",
    "df['Specflow_bot_sum_diff'] =  df['SCC._SccRtData.SccRtData.SpecFlw_Bot_SUM_mean'] - df[ 'SCC._SccRtData.SccRtData.SpecFlw_Bot_SUM_task_mean']\n",
    "df['Specflow_top_sum_diff'] = df['SCC._SccRtData.SccRtData.SpecFlw_TOP_SUM_mean'] - df['SCC._SccRtData.SccRtData.SpecFlw_TOP_SUM_task_mean']\n",
    "\n",
    "df['BHC_cen_flow_diff'] = df['BHC_cen_flow_sum_act_mean'] - df['BHC_flow_cen_sum_task_mean']\n",
    "df['BHC_out_flow_diff'] = df[ 'BHC_out_act_sum_mean'] - df[ 'BHC_flow__out_sum_task_mean']\n",
    "df[ 'THC_cen_flow_diff'] = df['THC_cen_flow_sum_act_mean'] - df['THC_flow_cen_sum_task_mean']\n",
    "df['THC_out_flow_mean'] = df['THC_out_flow_sum_act_mean'] - df['THC_out_flow_sum_task_mean']"
   ]
  },
  {
   "cell_type": "code",
   "execution_count": 30,
   "metadata": {
    "collapsed": true
   },
   "outputs": [],
   "source": [
    "todrop = ['GFC.Ai._aiGfcPrsAirBlw_mean', 'GFC._Gfc2Hmi.Gfc2Hmi.GfcHmiTmpWatScc_ActV_mean','GFC._Gfc2Hmi.Gfc2Hmi.GfcHmiBtmTopFlwRatioSetMod_ActV_mean',\n",
    "        'GFC._Hmi2Gfc.Hmi2Gfc.GfcHeadMskFlwTop_SetV_mean',\n",
    " 'GFC._Hmi2Gfc.Hmi2Gfc.GfcHeadMskLenTop_SetV_mean',\n",
    " 'GFC._Hmi2Gfc.Hmi2Gfc.GfcHeadMskFlwBot_SetV_mean',\n",
    " 'GFC._Hmi2Gfc.Hmi2Gfc.GfcHeadMskLenBot_SetV_mean',\n",
    " 'GFC._Hmi2Gfc.Hmi2Gfc.GfcTailMskFlwTop_SetV_mean',\n",
    " 'GFC._Hmi2Gfc.Hmi2Gfc.GfcTailMskFlwBot_SetV_mean', 'THC._ThcRtData.ThcRtData.WatAbsFlwSum_mean', \n",
    "         'PRC.GlobVar.PrcLocRtData.PrcPosMean_mean',\n",
    "\n",
    " 'EMC.GlobVar.EmcLocRtData.Mot_PosMean_mean',\n",
    " 'EMC.GlobVar.EmcLocRtData.Mot_Pos_DsOsdiff_sum_mean',\n",
    " 'EMC.GlobVar.EmcLocRtData.Mot_PosDiff_sum_mean', 'dist_from_plt_sum_mean', 'PPS_PIECE_ID',\n",
    " 'PREV_PIECE_ID',\n",
    " 'PIECE_ID_1',\n",
    " 'PIECE_ID_2','PLT_TCK',\n",
    " 'PLT_WID',\n",
    " 'PLT_LEN','Vol', 'TMP_STP_HEAD_AVG',\n",
    " 'TMP_STP_HEAD_MIN',\n",
    " 'TMP_STP_HEAD_MAX',\n",
    " 'TMP_STP_HEAD_DEV',\n",
    " 'TMP_STP_BDY_AVG',\n",
    " 'TMP_STP_BDY_MIN',\n",
    " 'TMP_STP_BDY_MAX',\n",
    " 'TMP_STP_BDY_DEV',\n",
    " 'TMP_STP_TAIL_AVG',\n",
    " 'TMP_STP_TAIL_MIN',\n",
    " 'TMP_STP_TAIL_MAX',\n",
    " 'TMP_STP_TAIL_DEV',\n",
    " 'TMP_STP_ALL_MIN',\n",
    " 'TMP_STP_ALL_MAX',\n",
    " 'TMP_STP_ALL_DEV','CR_ACT', 'DIF_TMP_ALL','CR',\n",
    " 'DEF_CR', 'DIF_STRT_HED_AVG',\n",
    " 'DIF_STRT_TAIL_AVG',\n",
    " 'DIF_STRT_TOT','PODKAT',\n",
    " 'PODKAT2', 'TEMP_START_PHASE2','HEATING_TIME',\n",
    "          'TMP_STRT_TOT_AVG_M',\n",
    " 'TMP_STRT_BDY_AVG_M','TMP_STA_TOT_MIN_M', 'TMP_STRT_BDY_AVG','TMP_STRT_ALL_AVG', 'TMP_STRT_TOT_MAX_M',\n",
    "           'THC_out_degree_sum_act_mean',\n",
    "\n",
    " 'TMP_STRT_ALL_MIN',\n",
    " 'TMP_STRT_BDY_MIN','L_ACC',\n",
    "'hour',\n",
    " 'UNIFORMITY',\n",
    " 'BATCH_SIZE',\n",
    " 'TEMP_OVERHEATING', 'WBF_NO', 'FURT10',\n",
    " 'FURT40','AVG_MASS_TEMP','CR_HEAD', 'SCC._SccRtData.SccRtData.SpecFlw_TOP_SUM_mean','EDGE_MASKING_POS_DRIVE_SIDE',\n",
    " 'EDGE_MASKING_POS_OP_SIDE',\n",
    "\n",
    " 'CR_BDY','WATER_FLOW_SPRAY_TOP',\n",
    " 'WATER_FLOW_SPRAY_BOTTOM',\n",
    " 'WATER_FLOW_LAM_INNER_TOP',\n",
    " 'WATER_FLOW_LAM_OUTER_TOP',\n",
    " 'WATER_FLOW_LAM_INNER_BOT','TFM',\n",
    " 'TS',\n",
    "    \n",
    " 'WATER_FLOW_LAM_OUTER_BOT', 'ADAPT_CR_PREV',\n",
    " 'CR_TAIL',\n",
    " 'CR_SPRAY_HEAD',\n",
    " 'CR_SPRAY_BDY',\n",
    " 'CR_SPRAY_TAIL',\n",
    " 'CR_LAM_HEAD',\n",
    " 'CR_LAM_BDY',\n",
    "          'BHC_out_act_degree_sum_mean', 'THC_out_degree_sum_act_mean', 'HEAD_MASKING_TOP_LENGTH',\n",
    " 'HEAD_MASKING_TOP_FLOW', 'TAIL_MASKING_TOP_LENGTH', 'HEAD_MASKING_BOTTOM_LENGTH',\n",
    " 'HEAD_MASKING_BOTTOM_FLOW',u'TMP_STRT_BDY_MAX','TMP_STRT_TAIL_MAX',u'TMP_STRT_TAIL_MIN',u'TMP_STRT_BDY_DEV',u'TMP_STRT_ALL_MAX', 'TMP_STRT_HEAD_AVG',u'TMP_STRT_TAIL_AVG',u'TMP_STRT_HEAD_MIN', u'TMP_STRT_HEAD_DEV', \n",
    " 'TAIL_MASKING_TOP_FLOW','TOP_FLW_SCS',\n",
    " 'TAIL_MASKING_BOTTOM_LENGTH',\n",
    " 'TAIL_MASKING_BOTTOM_FLOW',  'BANKS_HEIGHT', 'MEAS_TIME',u'DIF_SPRAY_BDY_HEAD', u'DIF_SPRAY_BDY_TAIL',\n",
    "  u'DIF_LAM_BDY_TAIL',\n",
    " 'PREV_MEAS_TIME',\n",
    " 'SIDE_SPRAY',\n",
    " 'AIR_BLOWER',\n",
    "        u'PLT_COOL_SPD_AVG', u'PLT_COOL_SPD_HEAD_AVG',\n",
    " 'NOT_IN_40_0C',\n",
    " 'IS_FIRST',\n",
    " 'WATER_TEMP_LAMINAR_COOLING', 'NOT_ANALYSIS',u'DIF_BDY_TAIL', u'DIF_BDY_HEAD',   u'SPEED',  u'DIF_LAM_BDY_HEAD',\n",
    "\n",
    " 'CR_LAM_TAIL']\n",
    "\n",
    "df.drop([x for x in df.columns if 'mean_mean' in x  or 'mean_act_mean' in x or 'mean_task_mean' in x or 'task' in x or x in todrop], axis=1, inplace=1)"
   ]
  },
  {
   "cell_type": "code",
   "execution_count": 31,
   "metadata": {
    "collapsed": false
   },
   "outputs": [],
   "source": [
    "for col in [\n",
    " 'ADAPTATION_KEY',\n",
    "'HEADERS',\n",
    "'WBF_COL_NO',\n",
    " 'BATCH_POSITION','ADAPTION_KEY_CHANGED',\n",
    "'daypart']:\n",
    "    df[col] = df[col].apply(lambda x: str(x))"
   ]
  },
  {
   "cell_type": "code",
   "execution_count": 32,
   "metadata": {
    "collapsed": false
   },
   "outputs": [
    {
     "name": "stdout",
     "output_type": "stream",
     "text": [
      "Categorical columns:\n",
      "['ADAPTATION_KEY', 'HEADERS', 'WBF_COL_NO', 'BATCH_POSITION', 'ADAPTION_KEY_CHANGED', 'daypart'] \n",
      "\n",
      "Numerical columns:\n",
      "['time', 'GFC._Gfc2Hmi.Gfc2Hmi.GfcHmiTmpWatLpc_ActV_mean', 'GFC._Gfc2Hmi.Gfc2Hmi.GfcHmiGenWtsAirTmp_ActV_mean', 'GFC.Ai._aiGfcAirPrs_mean', 'GFC.GlobVar.GfcLocRtData.GfcSccWatPrsScc_mean', 'BHC._BhcRtData.BhcRtData.WatAbsFlwSum_mean', 'PRC.GlobVar.PrcLocRtData.PrcPos_DsOsdiff_sum_mean', 'PRC.GlobVar.PrcLocRtData.PrcPosDiff_sum_mean', 'SCC._SccRtData.SccRtData.SpecFlw_Bot_SUM_mean', 'BHC_cen_act_degree_sum_mean', 'BHC_cen_flow_sum_act_mean', 'BHC_out_act_sum_mean', 'THC_cen_act_degree_sum_mean', 'THC_cen_flow_sum_act_mean', 'THC_out_flow_sum_act_mean', 'RES_TIM_STRT_COMPL', 'TMP_STRT_HEAD_MAX', 'TMP_STRT_TAIL_DEV', 'TMP_STRT_ALL_DEV', 'PLT_COOL_SPD_TAIL_AVG', 'PLT_ACCELERATION', 'ADAPT_CR', 'ADAPT_TS_MEAN', 'TOP_FLW_LPC', 'DURATION_IN_HOLDING_ZONE', 'TEMP_START_PHASE1', 'TEMP_END_PHASE2', 'DIF_TEMP_START', 'DIF_TFM', 'DIF_STRT_TOT_AVG', 'DIF_BDY_HEAD_AVG', 'DIF_BDY_TAIL_AVG', 'diff_mins', 'CR_PREV', 'TMP_STP_ALL_PREV', 'ADAPT_TS_MEAN_PREV', 'Specflow_bot_sum_diff', 'Specflow_top_sum_diff', 'BHC_cen_flow_diff', 'BHC_out_flow_diff', 'THC_cen_flow_diff', 'THC_out_flow_mean']\n"
     ]
    }
   ],
   "source": [
    "categorical_columns = [c for c in df.columns if df[c].dtype.name == 'object']\n",
    "numerical_columns   = [c for c in df.columns if df[c].dtype.name != 'object' and c not in ['NOT_IN_25_0C','TMP_STP_ALL_AVG','PIECE_ID','prev_fail','outcome']]\n",
    "print 'Categorical columns:\\n', categorical_columns, '\\n\\n',\n",
    "print 'Numerical columns:\\n', numerical_columns"
   ]
  },
  {
   "cell_type": "code",
   "execution_count": 33,
   "metadata": {
    "collapsed": false
   },
   "outputs": [
    {
     "name": "stdout",
     "output_type": "stream",
     "text": [
      "['ADAPTATION_KEY', 'HEADERS', 'WBF_COL_NO', 'ADAPTION_KEY_CHANGED'] ['BATCH_POSITION', 'daypart']\n"
     ]
    }
   ],
   "source": [
    "data_describe = df.describe(include=[object])\n",
    "\n",
    "binary_columns    = [c for c in categorical_columns if data_describe[c]['unique'] == 2]\n",
    "nonbinary_columns = [c for c in categorical_columns if data_describe[c]['unique'] > 2]\n",
    "\n",
    "print binary_columns, nonbinary_columns"
   ]
  },
  {
   "cell_type": "code",
   "execution_count": 34,
   "metadata": {
    "collapsed": false
   },
   "outputs": [
    {
     "data": {
      "text/plain": [
       "22    789\n",
       "23    234\n",
       "Name: HEADERS, dtype: int64"
      ]
     },
     "execution_count": 34,
     "metadata": {},
     "output_type": "execute_result"
    }
   ],
   "source": [
    "df.HEADERS.value_counts()"
   ]
  },
  {
   "cell_type": "code",
   "execution_count": 35,
   "metadata": {
    "collapsed": true
   },
   "outputs": [],
   "source": [
    "for c in binary_columns:\n",
    "    top = data_describe[c]['top']\n",
    "    top_items = df[c] == top\n",
    "    df.loc[top_items, c] = 0\n",
    "    df.loc[np.logical_not(top_items), c] = 1\n",
    "    \n",
    "data_nonbinary = pd.get_dummies(df[nonbinary_columns])"
   ]
  },
  {
   "cell_type": "code",
   "execution_count": 36,
   "metadata": {
    "collapsed": false
   },
   "outputs": [],
   "source": [
    "data_numerical = df[numerical_columns]\n",
    "# data_numerical = (data_numerical - data_numerical.mean()) / data_numerical.std()\n",
    "# data_numerical.describe()"
   ]
  },
  {
   "cell_type": "code",
   "execution_count": 37,
   "metadata": {
    "collapsed": false
   },
   "outputs": [
    {
     "name": "stdout",
     "output_type": "stream",
     "text": [
      "(1023, 55)\n",
      "Index([u'time', u'GFC._Gfc2Hmi.Gfc2Hmi.GfcHmiTmpWatLpc_ActV_mean',\n",
      "       u'GFC._Gfc2Hmi.Gfc2Hmi.GfcHmiGenWtsAirTmp_ActV_mean',\n",
      "       u'GFC.Ai._aiGfcAirPrs_mean',\n",
      "       u'GFC.GlobVar.GfcLocRtData.GfcSccWatPrsScc_mean',\n",
      "       u'BHC._BhcRtData.BhcRtData.WatAbsFlwSum_mean',\n",
      "       u'PRC.GlobVar.PrcLocRtData.PrcPos_DsOsdiff_sum_mean',\n",
      "       u'PRC.GlobVar.PrcLocRtData.PrcPosDiff_sum_mean',\n",
      "       u'SCC._SccRtData.SccRtData.SpecFlw_Bot_SUM_mean',\n",
      "       u'BHC_cen_act_degree_sum_mean', u'BHC_cen_flow_sum_act_mean',\n",
      "       u'BHC_out_act_sum_mean', u'THC_cen_act_degree_sum_mean',\n",
      "       u'THC_cen_flow_sum_act_mean', u'THC_out_flow_sum_act_mean',\n",
      "       u'RES_TIM_STRT_COMPL', u'TMP_STRT_HEAD_MAX', u'TMP_STRT_TAIL_DEV',\n",
      "       u'TMP_STRT_ALL_DEV', u'PLT_COOL_SPD_TAIL_AVG', u'PLT_ACCELERATION',\n",
      "       u'ADAPT_CR', u'ADAPT_TS_MEAN', u'TOP_FLW_LPC',\n",
      "       u'DURATION_IN_HOLDING_ZONE', u'TEMP_START_PHASE1', u'TEMP_END_PHASE2',\n",
      "       u'DIF_TEMP_START', u'DIF_TFM', u'DIF_STRT_TOT_AVG', u'DIF_BDY_HEAD_AVG',\n",
      "       u'DIF_BDY_TAIL_AVG', u'diff_mins', u'CR_PREV', u'TMP_STP_ALL_PREV',\n",
      "       u'ADAPT_TS_MEAN_PREV', u'Specflow_bot_sum_diff',\n",
      "       u'Specflow_top_sum_diff', u'BHC_cen_flow_diff', u'BHC_out_flow_diff',\n",
      "       u'THC_cen_flow_diff', u'THC_out_flow_mean', u'BATCH_POSITION_1.0',\n",
      "       u'BATCH_POSITION_2.0', u'BATCH_POSITION_3.0', u'BATCH_POSITION_4.0',\n",
      "       u'daypart_0', u'daypart_1', u'daypart_2', u'daypart_3', u'daypart_4',\n",
      "       u'ADAPTATION_KEY', u'HEADERS', u'WBF_COL_NO', u'ADAPTION_KEY_CHANGED'],\n",
      "      dtype='object')\n"
     ]
    }
   ],
   "source": [
    "X =  pd.concat((data_numerical,data_nonbinary,df[binary_columns]), axis=1)\n",
    "X_test= pd.DataFrame(X, dtype=float)\n",
    "y_test = df.TMP_STP_ALL_AVG\n",
    "y_class_test = df['NOT_IN_25_0C']\n",
    "print( X_test.shape)\n",
    "print (X_test.columns)"
   ]
  },
  {
   "cell_type": "code",
   "execution_count": 38,
   "metadata": {
    "collapsed": false
   },
   "outputs": [],
   "source": [
    "# X_train, X_test, y_train, y_test = train_test_split(X, y, test_size = 0.3, random_state = 111)\n",
    "\n",
    "# N_train, _ = X_train.shape \n",
    "# N_test,  _ = X_test.shape \n",
    "# print N_train, N_test"
   ]
  },
  {
   "cell_type": "code",
   "execution_count": 39,
   "metadata": {
    "collapsed": false
   },
   "outputs": [],
   "source": [
    "X_train = pd.read_csv('old_train.csv', sep = ';')\n",
    "y_train = pd.read_csv('old_ytrain.csv', sep = ';')\n",
    "y_class_train = pd.read_csv('old_y_class_train.csv', sep = ';')\n",
    "\n",
    "X_train.rename(columns={'HEADERS_23':'HEADERS'}, inplace=1)\n",
    "\n",
    "X_train = X_train[X_test.columns]"
   ]
  },
  {
   "cell_type": "code",
   "execution_count": 878,
   "metadata": {
    "collapsed": false
   },
   "outputs": [
    {
     "data": {
      "text/html": [
       "<div>\n",
       "<table border=\"1\" class=\"dataframe\">\n",
       "  <thead>\n",
       "    <tr style=\"text-align: right;\">\n",
       "      <th></th>\n",
       "      <th>0</th>\n",
       "      <th>1</th>\n",
       "    </tr>\n",
       "  </thead>\n",
       "  <tbody>\n",
       "    <tr>\n",
       "      <th>time</th>\n",
       "      <td>61.766</td>\n",
       "      <td>63.726</td>\n",
       "    </tr>\n",
       "    <tr>\n",
       "      <th>GFC._Gfc2Hmi.Gfc2Hmi.GfcHmiTmpWatLpc_ActV_mean</th>\n",
       "      <td>20.733</td>\n",
       "      <td>21.511</td>\n",
       "    </tr>\n",
       "    <tr>\n",
       "      <th>GFC._Gfc2Hmi.Gfc2Hmi.GfcHmiGenWtsAirTmp_ActV_mean</th>\n",
       "      <td>13.756</td>\n",
       "      <td>22.375</td>\n",
       "    </tr>\n",
       "    <tr>\n",
       "      <th>GFC.Ai._aiGfcAirPrs_mean</th>\n",
       "      <td>5.304</td>\n",
       "      <td>5.507</td>\n",
       "    </tr>\n",
       "    <tr>\n",
       "      <th>GFC.GlobVar.GfcLocRtData.GfcSccWatPrsScc_mean</th>\n",
       "      <td>4.378</td>\n",
       "      <td>4.376</td>\n",
       "    </tr>\n",
       "    <tr>\n",
       "      <th>BHC._BhcRtData.BhcRtData.WatAbsFlwSum_mean</th>\n",
       "      <td>2775.013</td>\n",
       "      <td>2624.109</td>\n",
       "    </tr>\n",
       "    <tr>\n",
       "      <th>PRC.GlobVar.PrcLocRtData.PrcPos_DsOsdiff_sum_mean</th>\n",
       "      <td>0.230</td>\n",
       "      <td>0.235</td>\n",
       "    </tr>\n",
       "    <tr>\n",
       "      <th>PRC.GlobVar.PrcLocRtData.PrcPosDiff_sum_mean</th>\n",
       "      <td>1.255</td>\n",
       "      <td>1.098</td>\n",
       "    </tr>\n",
       "    <tr>\n",
       "      <th>SCC._SccRtData.SccRtData.SpecFlw_Bot_SUM_mean</th>\n",
       "      <td>5006.372</td>\n",
       "      <td>4914.525</td>\n",
       "    </tr>\n",
       "    <tr>\n",
       "      <th>BHC_cen_act_degree_sum_mean</th>\n",
       "      <td>325.523</td>\n",
       "      <td>306.913</td>\n",
       "    </tr>\n",
       "    <tr>\n",
       "      <th>BHC_cen_flow_sum_act_mean</th>\n",
       "      <td>9148.878</td>\n",
       "      <td>9094.885</td>\n",
       "    </tr>\n",
       "    <tr>\n",
       "      <th>BHC_out_act_sum_mean</th>\n",
       "      <td>9066.629</td>\n",
       "      <td>8170.216</td>\n",
       "    </tr>\n",
       "    <tr>\n",
       "      <th>THC_cen_act_degree_sum_mean</th>\n",
       "      <td>640.394</td>\n",
       "      <td>623.887</td>\n",
       "    </tr>\n",
       "    <tr>\n",
       "      <th>THC_cen_flow_sum_act_mean</th>\n",
       "      <td>5470.249</td>\n",
       "      <td>5458.120</td>\n",
       "    </tr>\n",
       "    <tr>\n",
       "      <th>THC_out_flow_sum_act_mean</th>\n",
       "      <td>5137.655</td>\n",
       "      <td>5167.253</td>\n",
       "    </tr>\n",
       "    <tr>\n",
       "      <th>RES_TIM_STRT_COMPL</th>\n",
       "      <td>324.180</td>\n",
       "      <td>310.719</td>\n",
       "    </tr>\n",
       "    <tr>\n",
       "      <th>TMP_STRT_HEAD_MAX</th>\n",
       "      <td>764.509</td>\n",
       "      <td>765.063</td>\n",
       "    </tr>\n",
       "    <tr>\n",
       "      <th>TMP_STRT_TAIL_DEV</th>\n",
       "      <td>2.789</td>\n",
       "      <td>1.600</td>\n",
       "    </tr>\n",
       "    <tr>\n",
       "      <th>TMP_STRT_ALL_DEV</th>\n",
       "      <td>4.436</td>\n",
       "      <td>3.542</td>\n",
       "    </tr>\n",
       "    <tr>\n",
       "      <th>PLT_COOL_SPD_TAIL_AVG</th>\n",
       "      <td>1.375</td>\n",
       "      <td>1.328</td>\n",
       "    </tr>\n",
       "    <tr>\n",
       "      <th>PLT_ACCELERATION</th>\n",
       "      <td>0.006</td>\n",
       "      <td>0.010</td>\n",
       "    </tr>\n",
       "    <tr>\n",
       "      <th>ADAPT_CR</th>\n",
       "      <td>1.025</td>\n",
       "      <td>1.095</td>\n",
       "    </tr>\n",
       "    <tr>\n",
       "      <th>ADAPT_TS_MEAN</th>\n",
       "      <td>0.898</td>\n",
       "      <td>0.892</td>\n",
       "    </tr>\n",
       "    <tr>\n",
       "      <th>TOP_FLW_LPC</th>\n",
       "      <td>541.945</td>\n",
       "      <td>498.975</td>\n",
       "    </tr>\n",
       "    <tr>\n",
       "      <th>DURATION_IN_HOLDING_ZONE</th>\n",
       "      <td>71.918</td>\n",
       "      <td>61.295</td>\n",
       "    </tr>\n",
       "    <tr>\n",
       "      <th>TEMP_START_PHASE1</th>\n",
       "      <td>995.718</td>\n",
       "      <td>997.256</td>\n",
       "    </tr>\n",
       "    <tr>\n",
       "      <th>TEMP_END_PHASE2</th>\n",
       "      <td>769.121</td>\n",
       "      <td>767.515</td>\n",
       "    </tr>\n",
       "    <tr>\n",
       "      <th>DIF_TEMP_START</th>\n",
       "      <td>0.582</td>\n",
       "      <td>3.920</td>\n",
       "    </tr>\n",
       "    <tr>\n",
       "      <th>DIF_TFM</th>\n",
       "      <td>-1.825</td>\n",
       "      <td>-2.610</td>\n",
       "    </tr>\n",
       "    <tr>\n",
       "      <th>DIF_STRT_TOT_AVG</th>\n",
       "      <td>17.734</td>\n",
       "      <td>18.101</td>\n",
       "    </tr>\n",
       "    <tr>\n",
       "      <th>DIF_BDY_HEAD_AVG</th>\n",
       "      <td>-4.438</td>\n",
       "      <td>-4.907</td>\n",
       "    </tr>\n",
       "    <tr>\n",
       "      <th>DIF_BDY_TAIL_AVG</th>\n",
       "      <td>-2.312</td>\n",
       "      <td>-0.118</td>\n",
       "    </tr>\n",
       "    <tr>\n",
       "      <th>diff_mins</th>\n",
       "      <td>11.899</td>\n",
       "      <td>10.345</td>\n",
       "    </tr>\n",
       "    <tr>\n",
       "      <th>CR_PREV</th>\n",
       "      <td>-0.056</td>\n",
       "      <td>-0.070</td>\n",
       "    </tr>\n",
       "    <tr>\n",
       "      <th>TMP_STP_ALL_PREV</th>\n",
       "      <td>480.972</td>\n",
       "      <td>481.207</td>\n",
       "    </tr>\n",
       "    <tr>\n",
       "      <th>ADAPT_TS_MEAN_PREV</th>\n",
       "      <td>0.898</td>\n",
       "      <td>0.892</td>\n",
       "    </tr>\n",
       "    <tr>\n",
       "      <th>Specflow_bot_sum_diff</th>\n",
       "      <td>10.874</td>\n",
       "      <td>19.108</td>\n",
       "    </tr>\n",
       "    <tr>\n",
       "      <th>Specflow_top_sum_diff</th>\n",
       "      <td>9.205</td>\n",
       "      <td>16.276</td>\n",
       "    </tr>\n",
       "    <tr>\n",
       "      <th>BHC_cen_flow_diff</th>\n",
       "      <td>2364.909</td>\n",
       "      <td>2509.957</td>\n",
       "    </tr>\n",
       "    <tr>\n",
       "      <th>BHC_out_flow_diff</th>\n",
       "      <td>2557.915</td>\n",
       "      <td>1846.080</td>\n",
       "    </tr>\n",
       "    <tr>\n",
       "      <th>THC_cen_flow_diff</th>\n",
       "      <td>198.757</td>\n",
       "      <td>137.972</td>\n",
       "    </tr>\n",
       "    <tr>\n",
       "      <th>THC_out_flow_mean</th>\n",
       "      <td>50.646</td>\n",
       "      <td>53.563</td>\n",
       "    </tr>\n",
       "    <tr>\n",
       "      <th>BATCH_POSITION_1.0</th>\n",
       "      <td>0.251</td>\n",
       "      <td>0.253</td>\n",
       "    </tr>\n",
       "    <tr>\n",
       "      <th>BATCH_POSITION_2.0</th>\n",
       "      <td>0.257</td>\n",
       "      <td>0.256</td>\n",
       "    </tr>\n",
       "    <tr>\n",
       "      <th>BATCH_POSITION_3.0</th>\n",
       "      <td>0.251</td>\n",
       "      <td>0.247</td>\n",
       "    </tr>\n",
       "    <tr>\n",
       "      <th>BATCH_POSITION_4.0</th>\n",
       "      <td>0.239</td>\n",
       "      <td>0.243</td>\n",
       "    </tr>\n",
       "    <tr>\n",
       "      <th>daypart_0</th>\n",
       "      <td>0.411</td>\n",
       "      <td>0.391</td>\n",
       "    </tr>\n",
       "    <tr>\n",
       "      <th>daypart_1</th>\n",
       "      <td>0.159</td>\n",
       "      <td>0.151</td>\n",
       "    </tr>\n",
       "    <tr>\n",
       "      <th>daypart_2</th>\n",
       "      <td>0.159</td>\n",
       "      <td>0.143</td>\n",
       "    </tr>\n",
       "    <tr>\n",
       "      <th>daypart_3</th>\n",
       "      <td>0.149</td>\n",
       "      <td>0.177</td>\n",
       "    </tr>\n",
       "    <tr>\n",
       "      <th>daypart_4</th>\n",
       "      <td>0.123</td>\n",
       "      <td>0.139</td>\n",
       "    </tr>\n",
       "    <tr>\n",
       "      <th>ADAPTATION_KEY</th>\n",
       "      <td>0.276</td>\n",
       "      <td>0.189</td>\n",
       "    </tr>\n",
       "    <tr>\n",
       "      <th>HEADERS</th>\n",
       "      <td>0.454</td>\n",
       "      <td>0.229</td>\n",
       "    </tr>\n",
       "    <tr>\n",
       "      <th>WBF_COL_NO</th>\n",
       "      <td>0.495</td>\n",
       "      <td>0.497</td>\n",
       "    </tr>\n",
       "    <tr>\n",
       "      <th>ADAPTION_KEY_CHANGED</th>\n",
       "      <td>0.254</td>\n",
       "      <td>0.262</td>\n",
       "    </tr>\n",
       "  </tbody>\n",
       "</table>\n",
       "</div>"
      ],
      "text/plain": [
       "                                                         0        1\n",
       "time                                                61.766   63.726\n",
       "GFC._Gfc2Hmi.Gfc2Hmi.GfcHmiTmpWatLpc_ActV_mean      20.733   21.511\n",
       "GFC._Gfc2Hmi.Gfc2Hmi.GfcHmiGenWtsAirTmp_ActV_mean   13.756   22.375\n",
       "GFC.Ai._aiGfcAirPrs_mean                             5.304    5.507\n",
       "GFC.GlobVar.GfcLocRtData.GfcSccWatPrsScc_mean        4.378    4.376\n",
       "BHC._BhcRtData.BhcRtData.WatAbsFlwSum_mean        2775.013 2624.109\n",
       "PRC.GlobVar.PrcLocRtData.PrcPos_DsOsdiff_sum_mean    0.230    0.235\n",
       "PRC.GlobVar.PrcLocRtData.PrcPosDiff_sum_mean         1.255    1.098\n",
       "SCC._SccRtData.SccRtData.SpecFlw_Bot_SUM_mean     5006.372 4914.525\n",
       "BHC_cen_act_degree_sum_mean                        325.523  306.913\n",
       "BHC_cen_flow_sum_act_mean                         9148.878 9094.885\n",
       "BHC_out_act_sum_mean                              9066.629 8170.216\n",
       "THC_cen_act_degree_sum_mean                        640.394  623.887\n",
       "THC_cen_flow_sum_act_mean                         5470.249 5458.120\n",
       "THC_out_flow_sum_act_mean                         5137.655 5167.253\n",
       "RES_TIM_STRT_COMPL                                 324.180  310.719\n",
       "TMP_STRT_HEAD_MAX                                  764.509  765.063\n",
       "TMP_STRT_TAIL_DEV                                    2.789    1.600\n",
       "TMP_STRT_ALL_DEV                                     4.436    3.542\n",
       "PLT_COOL_SPD_TAIL_AVG                                1.375    1.328\n",
       "PLT_ACCELERATION                                     0.006    0.010\n",
       "ADAPT_CR                                             1.025    1.095\n",
       "ADAPT_TS_MEAN                                        0.898    0.892\n",
       "TOP_FLW_LPC                                        541.945  498.975\n",
       "DURATION_IN_HOLDING_ZONE                            71.918   61.295\n",
       "TEMP_START_PHASE1                                  995.718  997.256\n",
       "TEMP_END_PHASE2                                    769.121  767.515\n",
       "DIF_TEMP_START                                       0.582    3.920\n",
       "DIF_TFM                                             -1.825   -2.610\n",
       "DIF_STRT_TOT_AVG                                    17.734   18.101\n",
       "DIF_BDY_HEAD_AVG                                    -4.438   -4.907\n",
       "DIF_BDY_TAIL_AVG                                    -2.312   -0.118\n",
       "diff_mins                                           11.899   10.345\n",
       "CR_PREV                                             -0.056   -0.070\n",
       "TMP_STP_ALL_PREV                                   480.972  481.207\n",
       "ADAPT_TS_MEAN_PREV                                   0.898    0.892\n",
       "Specflow_bot_sum_diff                               10.874   19.108\n",
       "Specflow_top_sum_diff                                9.205   16.276\n",
       "BHC_cen_flow_diff                                 2364.909 2509.957\n",
       "BHC_out_flow_diff                                 2557.915 1846.080\n",
       "THC_cen_flow_diff                                  198.757  137.972\n",
       "THC_out_flow_mean                                   50.646   53.563\n",
       "BATCH_POSITION_1.0                                   0.251    0.253\n",
       "BATCH_POSITION_2.0                                   0.257    0.256\n",
       "BATCH_POSITION_3.0                                   0.251    0.247\n",
       "BATCH_POSITION_4.0                                   0.239    0.243\n",
       "daypart_0                                            0.411    0.391\n",
       "daypart_1                                            0.159    0.151\n",
       "daypart_2                                            0.159    0.143\n",
       "daypart_3                                            0.149    0.177\n",
       "daypart_4                                            0.123    0.139\n",
       "ADAPTATION_KEY                                       0.276    0.189\n",
       "HEADERS                                              0.454    0.229\n",
       "WBF_COL_NO                                           0.495    0.497\n",
       "ADAPTION_KEY_CHANGED                                 0.254    0.262"
      ]
     },
     "execution_count": 878,
     "metadata": {},
     "output_type": "execute_result"
    }
   ],
   "source": [
    "pd.set_option('display.float_format', lambda x: '%.3f' % x)\n",
    "pd.set_option('display.max_rows',264)\n",
    "\n",
    "pd.concat([X_train.mean(), X_test.mean()], axis=1)"
   ]
  },
  {
   "cell_type": "code",
   "execution_count": 879,
   "metadata": {
    "collapsed": false
   },
   "outputs": [
    {
     "data": {
      "text/plain": [
       "NOT_IN_25_0C   0.027\n",
       "dtype: float64"
      ]
     },
     "execution_count": 879,
     "metadata": {},
     "output_type": "execute_result"
    }
   ],
   "source": [
    "1.*y_class_train.sum()/len(y_class_train)"
   ]
  },
  {
   "cell_type": "code",
   "execution_count": 880,
   "metadata": {
    "collapsed": false
   },
   "outputs": [
    {
     "data": {
      "text/plain": [
       "0.03812316715542522"
      ]
     },
     "execution_count": 880,
     "metadata": {},
     "output_type": "execute_result"
    }
   ],
   "source": [
    "1.*y_class_test.sum()/len(y_class_test)"
   ]
  },
  {
   "cell_type": "code",
   "execution_count": 40,
   "metadata": {
    "collapsed": false
   },
   "outputs": [
    {
     "name": "stdout",
     "output_type": "stream",
     "text": [
      "Root mean squared error: %.2f 2.53373071682\n",
      "Variance score: 0.54\n",
      "R^2 score: 0.54\n"
     ]
    }
   ],
   "source": [
    "lr = LinearRegression()\n",
    "lr.fit(X_train, y_train)\n",
    "lr_pred = lr.predict(X_test)\n",
    "\n",
    "\n",
    "# The mean squared error`\n",
    "print \"Root mean squared error: %.2f\", mean_absolute_error( y_test, lr_pred)**0.5\n",
    "# Explained variance score: 1 is perfect prediction\n",
    "print('Variance score: %.2f' % lr.score(X_test, y_test))\n",
    "print 'R^2 score: %.2f' % r2_score(y_test, lr_pred,multioutput='uniform_average')"
   ]
  },
  {
   "cell_type": "code",
   "execution_count": 41,
   "metadata": {
    "collapsed": false
   },
   "outputs": [
    {
     "data": {
      "image/png": "[encoded data removed]",
      "text/plain": [
       "<matplotlib.figure.Figure at 0x78971d0>"
      ]
     },
     "metadata": {},
     "output_type": "display_data"
    }
   ],
   "source": [
    "fig, ax = plt.subplots()\n",
    "ax.scatter(y_test, lr_pred)\n",
    "ax.plot([y_test.min(), y_test.max()], [y_test.min(), y_test.max()], 'k--', lw=4)\n",
    "ax.set_xlabel('Measured')\n",
    "ax.set_ylabel('Predicted')\n",
    "plt.show()"
   ]
  },
  {
   "cell_type": "code",
   "execution_count": 42,
   "metadata": {
    "collapsed": false
   },
   "outputs": [],
   "source": [
    "y_cl = lr_pred.copy()\n",
    "\n",
    "y_cl[y_cl>505] = 1\n",
    "y_cl[y_cl<455] = 1\n",
    "\n",
    "y_cl[(y_cl<=505)&(y_cl>=455)&(y_cl!=1)] = 0\n",
    "\n",
    "y_t = y_test.copy()\n",
    "\n",
    "y_t[y_t>505] = 1\n",
    "y_t[y_t<455] = 1\n",
    "\n",
    "y_t[(y_t<=505)&(y_t>=455)&(y_t!=1)] = 0\n",
    "\n"
   ]
  },
  {
   "cell_type": "code",
   "execution_count": 43,
   "metadata": {
    "collapsed": false
   },
   "outputs": [
    {
     "name": "stdout",
     "output_type": "stream",
     "text": [
      "Roc-auc: 0.65 \n",
      "\n",
      "Confusion matrix: \n",
      "[[981   3]\n",
      " [ 27  12]] \n",
      "\n",
      "F1 score: 0.44 \n",
      "\n",
      "Recall: 0.31 \n",
      "\n",
      "Precision score: 0.80 \n",
      "\n",
      "Accuracy:  0.970674486804\n"
     ]
    }
   ],
   "source": [
    "print \"Roc-auc: %.2f\" %  roc_auc_score(y_t,y_cl) , '\\n'\n",
    "print \"Confusion matrix: \\n\", confusion_matrix(y_t,y_cl), \"\\n\"\n",
    "print \"F1 score: %.2f\" % f1_score(y_t,y_cl), \"\\n\"\n",
    "print \"Recall: %.2f\" %  recall_score(y_t,y_cl), \"\\n\"\n",
    "print \"Precision score: %.2f\" % precision_score(y_t,y_cl), \"\\n\"\n",
    "print \"Accuracy: \" ,accuracy_score(y_t,y_cl)"
   ]
  },
  {
   "cell_type": "code",
   "execution_count": 913,
   "metadata": {
    "collapsed": false
   },
   "outputs": [],
   "source": [
    "lr_pred_df = pd.DataFrame(ridge_pred)\n",
    "lr_pred_df.index = df.PIECE_ID"
   ]
  },
  {
   "cell_type": "code",
   "execution_count": 914,
   "metadata": {
    "collapsed": false
   },
   "outputs": [],
   "source": [
    "lr_pred_df.to_csv('tmp_pred.csv', sep=';', index=1)"
   ]
  },
  {
   "cell_type": "code",
   "execution_count": 63,
   "metadata": {
    "collapsed": false
   },
   "outputs": [
    {
     "name": "stdout",
     "output_type": "stream",
     "text": [
      "Root mean squared error: %.2f 7.66260819617\n",
      "Variance score: 0.58\n",
      "R^2 score: 0.58\n"
     ]
    }
   ],
   "source": [
    "model_ridge = Ridge(alpha=0.1)\n",
    "model_ridge.fit(X_train, y_train)\n",
    "ridge_pred = model_ridge.predict(X_test)\n",
    "\n",
    "print \"Root mean squared error: %.2f\", mean_squared_error( y_test, ridge_pred)**0.5\n",
    "# Explained variance score: 1 is perfect prediction\n",
    "print('Variance score: %.2f' % model_ridge.score(X_test, y_test))\n",
    "print 'R^2 score: %.2f' % r2_score(y_test,  ridge_pred,multioutput='uniform_average')"
   ]
  },
  {
   "cell_type": "code",
   "execution_count": 64,
   "metadata": {
    "collapsed": true
   },
   "outputs": [],
   "source": [
    "y_cl = ridge_pred.copy()\n",
    "\n",
    "y_cl[y_cl>505] = 1\n",
    "y_cl[y_cl<455] = 1\n",
    "\n",
    "y_cl[(y_cl<=505)&(y_cl>=455)&(y_cl!=1)] = 0\n",
    "\n",
    "y_t = y_test.copy()\n",
    "\n",
    "y_t[y_t>505] = 1\n",
    "y_t[y_t<455] = 1\n",
    "\n",
    "y_t[(y_t<=505)&(y_t>=455)&(y_t!=1)] = 0"
   ]
  },
  {
   "cell_type": "code",
   "execution_count": 65,
   "metadata": {
    "collapsed": false
   },
   "outputs": [
    {
     "name": "stdout",
     "output_type": "stream",
     "text": [
      "Roc-auc: 0.65 \n",
      "\n",
      "Confusion matrix: \n",
      "[[982   2]\n",
      " [ 27  12]] \n",
      "\n",
      "F1 score: 0.45 \n",
      "\n",
      "Recall: 0.31 \n",
      "\n",
      "Precision score: 0.86 \n",
      "\n",
      "Accuracy:  0.97165200391\n"
     ]
    }
   ],
   "source": [
    "print \"Roc-auc: %.2f\" %  roc_auc_score(y_t,y_cl) , '\\n'\n",
    "print \"Confusion matrix: \\n\", confusion_matrix(y_t,y_cl), \"\\n\"\n",
    "print \"F1 score: %.2f\" % f1_score(y_t,y_cl), \"\\n\"\n",
    "print \"Recall: %.2f\" %  recall_score(y_t,y_cl), \"\\n\"\n",
    "print \"Precision score: %.2f\" % precision_score(y_t,y_cl), \"\\n\"\n",
    "print \"Accuracy: \" ,accuracy_score(y_t,y_cl)"
   ]
  },
  {
   "cell_type": "code",
   "execution_count": 915,
   "metadata": {
    "collapsed": false
   },
   "outputs": [],
   "source": [
    "y_cl_df = pd.DataFrame(y_cl)\n",
    "y_cl_df.index =  df.PIECE_ID\n",
    "y_cl_df.to_csv('class_pred.csv', sep=';', index=1)"
   ]
  }
 ],
 "metadata": {
  "anaconda-cloud": {},
  "kernelspec": {
   "display_name": "Python [conda root]",
   "language": "python",
   "name": "conda-root-py"
  },
  "language_info": {
   "codemirror_mode": {
    "name": "ipython",
    "version": 2
   },
   "file_extension": ".py",
   "mimetype": "text/x-python",
   "name": "python",
   "nbconvert_exporter": "python",
   "pygments_lexer": "ipython2",
   "version": "2.7.12"
  }
 },
 "nbformat": 4,
 "nbformat_minor": 1
}
