{
 "cells": [
  {
   "cell_type": "code",
   "execution_count": 325,
   "metadata": {
    "collapsed": true
   },
   "outputs": [],
   "source": [
    "import pandas as pd\n",
    "import numpy as np\n",
    "import re\n",
    "import os\n",
    "import multiprocessing as mp\n",
    "import matplotlib\n",
    "import matplotlib.pyplot as plt\n",
    "from sklearn.feature_selection import VarianceThreshold\n",
    "from datetime import datetime\n"
   ]
  },
  {
   "cell_type": "code",
   "execution_count": 326,
   "metadata": {
    "collapsed": true
   },
   "outputs": [],
   "source": [
    "data = pd.read_table('./prepr/relevant_new/data686.txt',index_col=False)"
   ]
  },
  {
   "cell_type": "code",
   "execution_count": 327,
   "metadata": {
    "collapsed": true
   },
   "outputs": [],
   "source": [
    "data['time'] = data['time'].apply(lambda x: datetime.strptime(x, \"%d.%m.%Y %H:%M:%S.%f\"))"
   ]
  },
  {
   "cell_type": "code",
   "execution_count": 328,
   "metadata": {},
   "outputs": [
    {
     "name": "stdout",
     "output_type": "stream",
     "text": [
      "GFC._Gfc2Hmi.Gfc2Hmi.GfcHmiBtmTopFlwRatioManRef_ActV  :  1 \n",
      "\n",
      "SCC._SccRtData.SccRtData.SccRefPrsPmp  :  1 \n",
      "\n",
      "THC.GlobVar.AccCtrlOutput_Cen.FlwCtrlAdj[20]  :  1 \n",
      "\n",
      "THC.GlobVar.AccCtrlOutput_Cen.FlwCtrlAdj[21]  :  1 \n",
      "\n",
      "THC.GlobVar.AccCtrlOutput_Cen.FlwCtrlAdj[22]  :  1 \n",
      "\n",
      "THC.GlobVar.AccCtrlOutput_Cen.FlwCtrlAdj[23]  :  1 \n",
      "\n",
      "THC.GlobVar.AccCtrlOutput_Cen.FlwCtrlAdj[24]  :  1 \n",
      "\n",
      "THC.GlobVar.AccCtrlOutput_Out.SpecFlwAct[20]  :  1 \n",
      "\n",
      "THC.GlobVar.AccCtrlOutput_Out.FlwCtrlAdj[20]  :  1 \n",
      "\n",
      "THC.GlobVar.AccCtrlOutput_Out.FlwCtrlAdj[21]  :  1 \n",
      "\n",
      "THC.GlobVar.AccCtrlOutput_Out.SpecFlwAct[22]  :  1 \n",
      "\n",
      "THC.GlobVar.AccCtrlOutput_Out.FlwCtrlAdj[22]  :  1 \n",
      "\n",
      "THC.GlobVar.AccCtrlOutput_Out.SpecFlwAct[23]  :  1 \n",
      "\n",
      "THC.GlobVar.AccCtrlOutput_Out.FlwCtrlAdj[23]  :  1 \n",
      "\n",
      "THC.GlobVar.AccCtrlOutput_Out.SpecFlwAct[24]  :  1 \n",
      "\n",
      "THC.GlobVar.AccCtrlOutput_Out.FlwCtrlAdj[24]  :  1 \n",
      "\n",
      "THC.GlobVar.AccCtrlInput_Cen.SpecFlwRef[20]  :  1 \n",
      "\n",
      "THC.GlobVar.AccCtrlInput_Cen.SpecFlwRef[21]  :  1 \n",
      "\n",
      "THC.GlobVar.AccCtrlInput_Cen.SpecFlwRef[22]  :  1 \n",
      "\n",
      "THC.GlobVar.AccCtrlInput_Cen.SpecFlwRef[23]  :  1 \n",
      "\n",
      "THC.GlobVar.AccCtrlInput_Cen.SpecFlwRef[24]  :  1 \n",
      "\n",
      "THC.GlobVar.AccCtrlInput_Out.SpecFlwRef[20]  :  1 \n",
      "\n",
      "THC.GlobVar.AccCtrlInput_Out.SpecFlwRef[21]  :  1 \n",
      "\n",
      "THC.GlobVar.AccCtrlInput_Out.SpecFlwRef[22]  :  1 \n",
      "\n",
      "THC.GlobVar.AccCtrlInput_Out.SpecFlwRef[23]  :  1 \n",
      "\n",
      "THC.GlobVar.AccCtrlInput_Out.SpecFlwRef[24]  :  1 \n",
      "\n",
      "THC.GlobVar.AccCtrlOutput_Cen.FlwCtrlAdj[25]  :  1 \n",
      "\n",
      "THC.GlobVar.AccCtrlOutput_Cen.FlwCtrlAdj[26]  :  1 \n",
      "\n",
      "THC.GlobVar.AccCtrlOutput_Cen.FlwCtrlAdj[27]  :  1 \n",
      "\n",
      "THC.GlobVar.AccCtrlOutput_Cen.FlwCtrlAdj[28]  :  1 \n",
      "\n",
      "THC.GlobVar.AccCtrlOutput_Cen.FlwCtrlAdj[29]  :  1 \n",
      "\n",
      "THC.GlobVar.AccCtrlOutput_Cen.FlwCtrlAdj[30]  :  1 \n",
      "\n",
      "THC.GlobVar.AccCtrlOutput_Cen.FlwCtrlAdj[31]  :  1 \n",
      "\n",
      "THC.GlobVar.AccCtrlOutput_Cen.FlwCtrlAdj[32]  :  1 \n",
      "\n",
      "THC.GlobVar.AccCtrlOutput_Out.FlwCtrlAdj[25]  :  1 \n",
      "\n",
      "THC.GlobVar.AccCtrlOutput_Out.SpecFlwAct[26]  :  1 \n",
      "\n",
      "THC.GlobVar.AccCtrlOutput_Out.FlwCtrlAdj[26]  :  1 \n",
      "\n",
      "THC.GlobVar.AccCtrlOutput_Out.SpecFlwAct[27]  :  1 \n",
      "\n",
      "THC.GlobVar.AccCtrlOutput_Out.FlwCtrlAdj[27]  :  1 \n",
      "\n",
      "THC.GlobVar.AccCtrlOutput_Out.SpecFlwAct[28]  :  1 \n",
      "\n",
      "THC.GlobVar.AccCtrlOutput_Out.FlwCtrlAdj[28]  :  1 \n",
      "\n",
      "THC.GlobVar.AccCtrlOutput_Out.FlwCtrlAdj[29]  :  1 \n",
      "\n",
      "THC.GlobVar.AccCtrlOutput_Out.SpecFlwAct[30]  :  1 \n",
      "\n",
      "THC.GlobVar.AccCtrlOutput_Out.FlwCtrlAdj[30]  :  1 \n",
      "\n",
      "THC.GlobVar.AccCtrlOutput_Out.SpecFlwAct[31]  :  1 \n",
      "\n",
      "THC.GlobVar.AccCtrlOutput_Out.FlwCtrlAdj[31]  :  1 \n",
      "\n",
      "THC.GlobVar.AccCtrlOutput_Out.SpecFlwAct[32]  :  1 \n",
      "\n",
      "THC.GlobVar.AccCtrlOutput_Out.FlwCtrlAdj[32]  :  1 \n",
      "\n",
      "THC.GlobVar.AccCtrlInput_Cen.FlwCtrlAdjFbk[30]  :  1 \n",
      "\n",
      "THC.GlobVar.AccCtrlInput_Cen.SpecFlwRef[25]  :  1 \n",
      "\n",
      "THC.GlobVar.AccCtrlInput_Cen.SpecFlwRef[26]  :  1 \n",
      "\n",
      "THC.GlobVar.AccCtrlInput_Cen.SpecFlwRef[27]  :  1 \n",
      "\n",
      "THC.GlobVar.AccCtrlInput_Cen.SpecFlwRef[28]  :  1 \n",
      "\n",
      "THC.GlobVar.AccCtrlInput_Cen.SpecFlwRef[29]  :  1 \n",
      "\n",
      "THC.GlobVar.AccCtrlInput_Cen.SpecFlwRef[30]  :  1 \n",
      "\n",
      "THC.GlobVar.AccCtrlInput_Cen.SpecFlwRef[31]  :  1 \n",
      "\n",
      "THC.GlobVar.AccCtrlInput_Cen.SpecFlwRef[32]  :  1 \n",
      "\n",
      "THC.GlobVar.AccCtrlInput_Out.SpecFlwRef[25]  :  1 \n",
      "\n",
      "THC.GlobVar.AccCtrlInput_Out.SpecFlwRef[26]  :  1 \n",
      "\n",
      "THC.GlobVar.AccCtrlInput_Out.SpecFlwRef[27]  :  1 \n",
      "\n",
      "THC.GlobVar.AccCtrlInput_Out.SpecFlwRef[28]  :  1 \n",
      "\n",
      "THC.GlobVar.AccCtrlInput_Out.SpecFlwRef[29]  :  1 \n",
      "\n",
      "THC.GlobVar.AccCtrlInput_Out.SpecFlwRef[30]  :  1 \n",
      "\n",
      "THC.GlobVar.AccCtrlInput_Out.SpecFlwRef[31]  :  1 \n",
      "\n",
      "THC.GlobVar.AccCtrlInput_Out.SpecFlwRef[32]  :  1 \n",
      "\n",
      "THC.GlobVar.AccCtrlOutput_Cen.FlwCtrlAdj[33]  :  1 \n",
      "\n",
      "THC.GlobVar.AccCtrlOutput_Cen.FlwCtrlAdj[34]  :  1 \n",
      "\n",
      "THC.GlobVar.AccCtrlOutput_Cen.FlwCtrlAdj[35]  :  1 \n",
      "\n",
      "THC.GlobVar.AccCtrlOutput_Cen.FlwCtrlAdj[36]  :  1 \n",
      "\n",
      "THC.GlobVar.AccCtrlOutput_Out.FlwCtrlAdj[33]  :  1 \n",
      "\n",
      "THC.GlobVar.AccCtrlOutput_Out.SpecFlwAct[34]  :  1 \n",
      "\n",
      "THC.GlobVar.AccCtrlOutput_Out.FlwCtrlAdj[34]  :  1 \n",
      "\n",
      "THC.GlobVar.AccCtrlOutput_Out.SpecFlwAct[35]  :  1 \n",
      "\n",
      "THC.GlobVar.AccCtrlOutput_Out.FlwCtrlAdj[35]  :  1 \n",
      "\n",
      "THC.GlobVar.AccCtrlOutput_Out.SpecFlwAct[36]  :  1 \n",
      "\n",
      "THC.GlobVar.AccCtrlOutput_Out.FlwCtrlAdj[36]  :  1 \n",
      "\n",
      "THC.GlobVar.AccCtrlInput_Cen.SpecFlwRef[33]  :  1 \n",
      "\n",
      "THC.GlobVar.AccCtrlInput_Cen.SpecFlwRef[34]  :  1 \n",
      "\n",
      "THC.GlobVar.AccCtrlInput_Cen.SpecFlwRef[35]  :  1 \n",
      "\n",
      "THC.GlobVar.AccCtrlInput_Cen.SpecFlwRef[36]  :  1 \n",
      "\n",
      "THC.GlobVar.AccCtrlInput_Out.SpecFlwRef[33]  :  1 \n",
      "\n",
      "THC.GlobVar.AccCtrlInput_Out.SpecFlwRef[34]  :  1 \n",
      "\n",
      "THC.GlobVar.AccCtrlInput_Out.SpecFlwRef[35]  :  1 \n",
      "\n",
      "THC.GlobVar.AccCtrlInput_Out.SpecFlwRef[36]  :  1 \n",
      "\n",
      "BHC.GlobVar.AccCtrlOutput_Cen.FlwCtrlAdj[20]  :  1 \n",
      "\n",
      "BHC.GlobVar.AccCtrlOutput_Cen.FlwCtrlAdj[21]  :  1 \n",
      "\n",
      "BHC.GlobVar.AccCtrlOutput_Cen.FlwCtrlAdj[22]  :  1 \n",
      "\n",
      "BHC.GlobVar.AccCtrlOutput_Cen.FlwCtrlAdj[23]  :  1 \n",
      "\n",
      "BHC.GlobVar.AccCtrlOutput_Cen.FlwCtrlAdj[24]  :  1 \n",
      "\n",
      "BHC.GlobVar.AccCtrlOutput_Out.FlwCtrlAdj[20]  :  1 \n",
      "\n",
      "BHC.GlobVar.AccCtrlOutput_Out.FlwCtrlAdj[21]  :  1 \n",
      "\n",
      "BHC.GlobVar.AccCtrlOutput_Out.FlwCtrlAdj[22]  :  1 \n",
      "\n",
      "BHC.GlobVar.AccCtrlOutput_Out.FlwCtrlAdj[23]  :  1 \n",
      "\n",
      "BHC.GlobVar.AccCtrlOutput_Out.FlwCtrlAdj[24]  :  1 \n",
      "\n",
      "BHC.GlobVar.AccCtrlInput_Cen.SpecFlwRef[20]  :  1 \n",
      "\n",
      "BHC.GlobVar.AccCtrlInput_Cen.SpecFlwRef[21]  :  1 \n",
      "\n",
      "BHC.GlobVar.AccCtrlInput_Cen.SpecFlwRef[22]  :  1 \n",
      "\n",
      "BHC.GlobVar.AccCtrlInput_Cen.SpecFlwRef[23]  :  1 \n",
      "\n",
      "BHC.GlobVar.AccCtrlInput_Cen.SpecFlwRef[24]  :  1 \n",
      "\n",
      "BHC.GlobVar.AccCtrlInput_Out.SpecFlwRef[20]  :  1 \n",
      "\n",
      "BHC.GlobVar.AccCtrlInput_Out.SpecFlwRef[21]  :  1 \n",
      "\n",
      "BHC.GlobVar.AccCtrlInput_Out.SpecFlwRef[22]  :  1 \n",
      "\n",
      "BHC.GlobVar.AccCtrlInput_Out.SpecFlwRef[23]  :  1 \n",
      "\n",
      "BHC.GlobVar.AccCtrlInput_Out.SpecFlwRef[24]  :  1 \n",
      "\n",
      "BHC.GlobVar.AccCtrlOutput_Cen.FlwCtrlAdj[25]  :  1 \n",
      "\n",
      "BHC.GlobVar.AccCtrlOutput_Cen.FlwCtrlAdj[26]  :  1 \n",
      "\n",
      "BHC.GlobVar.AccCtrlOutput_Cen.FlwCtrlAdj[27]  :  1 \n",
      "\n",
      "BHC.GlobVar.AccCtrlOutput_Cen.FlwCtrlAdj[28]  :  1 \n",
      "\n",
      "BHC.GlobVar.AccCtrlOutput_Cen.FlwCtrlAdj[29]  :  1 \n",
      "\n",
      "BHC.GlobVar.AccCtrlOutput_Cen.FlwCtrlAdj[30]  :  1 \n",
      "\n",
      "BHC.GlobVar.AccCtrlOutput_Cen.FlwCtrlAdj[31]  :  1 \n",
      "\n",
      "BHC.GlobVar.AccCtrlOutput_Cen.FlwCtrlAdj[32]  :  1 \n",
      "\n",
      "BHC.GlobVar.AccCtrlOutput_Out.FlwCtrlAdj[25]  :  1 \n",
      "\n",
      "BHC.GlobVar.AccCtrlOutput_Out.FlwCtrlAdj[26]  :  1 \n",
      "\n",
      "BHC.GlobVar.AccCtrlOutput_Out.FlwCtrlAdj[27]  :  1 \n",
      "\n",
      "BHC.GlobVar.AccCtrlOutput_Out.FlwCtrlAdj[28]  :  1 \n",
      "\n",
      "BHC.GlobVar.AccCtrlOutput_Out.FlwCtrlAdj[29]  :  1 \n",
      "\n",
      "BHC.GlobVar.AccCtrlOutput_Out.FlwCtrlAdj[30]  :  1 \n",
      "\n",
      "BHC.GlobVar.AccCtrlOutput_Out.FlwCtrlAdj[31]  :  1 \n",
      "\n",
      "BHC.GlobVar.AccCtrlOutput_Out.FlwCtrlAdj[32]  :  1 \n",
      "\n",
      "BHC.GlobVar.AccCtrlInput_Cen.SpecFlwRef[25]  :  1 \n",
      "\n",
      "BHC.GlobVar.AccCtrlInput_Cen.SpecFlwRef[26]  :  1 \n",
      "\n",
      "BHC.GlobVar.AccCtrlInput_Cen.SpecFlwRef[27]  :  1 \n",
      "\n",
      "BHC.GlobVar.AccCtrlInput_Cen.SpecFlwRef[28]  :  1 \n",
      "\n",
      "BHC.GlobVar.AccCtrlInput_Cen.SpecFlwRef[29]  :  1 \n",
      "\n",
      "BHC.GlobVar.AccCtrlInput_Cen.SpecFlwRef[30]  :  1 \n",
      "\n",
      "BHC.GlobVar.AccCtrlInput_Cen.SpecFlwRef[31]  :  1 \n",
      "\n",
      "BHC.GlobVar.AccCtrlInput_Cen.SpecFlwRef[32]  :  1 \n",
      "\n",
      "BHC.GlobVar.AccCtrlInput_Out.SpecFlwRef[25]  :  1 \n",
      "\n",
      "BHC.GlobVar.AccCtrlInput_Out.SpecFlwRef[26]  :  1 \n",
      "\n",
      "BHC.GlobVar.AccCtrlInput_Out.SpecFlwRef[27]  :  1 \n",
      "\n",
      "BHC.GlobVar.AccCtrlInput_Out.SpecFlwRef[28]  :  1 \n",
      "\n",
      "BHC.GlobVar.AccCtrlInput_Out.SpecFlwRef[29]  :  1 \n",
      "\n",
      "BHC.GlobVar.AccCtrlInput_Out.SpecFlwRef[30]  :  1 \n",
      "\n",
      "BHC.GlobVar.AccCtrlInput_Out.SpecFlwRef[31]  :  1 \n",
      "\n",
      "BHC.GlobVar.AccCtrlInput_Out.SpecFlwRef[32]  :  1 \n",
      "\n",
      "BHC.GlobVar.AccCtrlOutput_Cen.FlwCtrlAdj[33]  :  1 \n",
      "\n",
      "BHC.GlobVar.AccCtrlOutput_Cen.FlwCtrlAdj[34]  :  1 \n",
      "\n",
      "BHC.GlobVar.AccCtrlOutput_Cen.FlwCtrlAdj[35]  :  1 \n",
      "\n",
      "BHC.GlobVar.AccCtrlOutput_Cen.FlwCtrlAdj[36]  :  1 \n",
      "\n",
      "BHC.GlobVar.AccCtrlOutput_Out.FlwCtrlAdj[33]  :  1 \n",
      "\n",
      "BHC.GlobVar.AccCtrlOutput_Out.FlwCtrlAdj[34]  :  1 \n",
      "\n",
      "BHC.GlobVar.AccCtrlOutput_Out.FlwCtrlAdj[35]  :  1 \n",
      "\n",
      "BHC.GlobVar.AccCtrlOutput_Out.FlwCtrlAdj[36]  :  1 \n",
      "\n",
      "BHC.GlobVar.AccCtrlInput_Cen.SpecFlwRef[33]  :  1 \n",
      "\n",
      "BHC.GlobVar.AccCtrlInput_Cen.SpecFlwRef[34]  :  1 \n",
      "\n",
      "BHC.GlobVar.AccCtrlInput_Cen.SpecFlwRef[35]  :  1 \n",
      "\n",
      "BHC.GlobVar.AccCtrlInput_Cen.SpecFlwRef[36]  :  1 \n",
      "\n",
      "BHC.GlobVar.AccCtrlInput_Out.SpecFlwRef[33]  :  1 \n",
      "\n",
      "BHC.GlobVar.AccCtrlInput_Out.SpecFlwRef[34]  :  1 \n",
      "\n",
      "BHC.GlobVar.AccCtrlInput_Out.SpecFlwRef[35]  :  1 \n",
      "\n",
      "BHC.GlobVar.AccCtrlInput_Out.SpecFlwRef[36]  :  1 \n",
      "\n"
     ]
    }
   ],
   "source": [
    "def todrop(data):\n",
    "    todrop = []\n",
    "    for col in [c for c in data.columns if data[c].dtype.name != 'object']:\n",
    "        if len(data[col].unique())<2:\n",
    "            todrop.append(col)\n",
    "            print col, ' : ', len(data[col].unique()), '\\n'\n",
    "    a = data.drop(todrop, axis=1)\n",
    "        \n",
    "    return a\n",
    "\n",
    "data = todrop(data)"
   ]
  },
  {
   "cell_type": "code",
   "execution_count": 329,
   "metadata": {
    "collapsed": true
   },
   "outputs": [],
   "source": [
    "for i in range(1,6):\n",
    "    data['PRC.GlobVar.PrcLocRtData.PrcPosMean'+str(i)] = data[['PRC.GlobVar.PrcLocRtData.PrcPosActDs'+str(i),'PRC.GlobVar.PrcLocRtData.PrcPosActOs'+str(i) ]].mean(axis=1)\n",
    "    data['PRC.GlobVar.PrcLocRtData.PrcPos_DsOsdiff'+str(i)] = data['PRC.GlobVar.PrcLocRtData.PrcPosActDs'+str(i)] - data['PRC.GlobVar.PrcLocRtData.PrcPosActOs'+str(i) ]\n",
    "    data['PRC.GlobVar.PrcLocRtData.PrcPosDiff'+str(i)] = data[ 'PRC.GlobVar.PrcLocRtData.Prc'+str(i)+'PosRef'] - data['PRC.GlobVar.PrcLocRtData.PrcPosMean'+str(i)]\n",
    "    \n",
    "data['PRC.GlobVar.PrcLocRtData.PrcPosMean'] = data[[x for x in data.columns if x.startswith('PRC.GlobVar.PrcLocRtData.PrcPosMean')]].mean(axis=1)\n",
    "data['PRC.GlobVar.PrcLocRtData.PrcPos_DsOsdiff_sum'] = data[[x for x in data.columns if x.startswith('PRC.GlobVar.PrcLocRtData.PrcPos_DsOsdiff')]].sum(axis=1)\n",
    "data['PRC.GlobVar.PrcLocRtData.PrcPosDiff_sum'] = data[[x for x in data.columns if x.startswith('PRC.GlobVar.PrcLocRtData.PrcPosDiff')]].sum(axis=1)\n",
    "    \n",
    "data.drop(['PRC.GlobVar.PrcLocRtData.PrcPosActDs1',\n",
    " 'PRC.GlobVar.PrcLocRtData.PrcPosActDs2',\n",
    " 'PRC.GlobVar.PrcLocRtData.PrcPosActDs3',\n",
    " 'PRC.GlobVar.PrcLocRtData.PrcPosActDs4',\n",
    " 'PRC.GlobVar.PrcLocRtData.PrcPosActDs5',\n",
    " 'PRC.GlobVar.PrcLocRtData.PrcPosActOs1',\n",
    " 'PRC.GlobVar.PrcLocRtData.PrcPosActOs2',\n",
    " 'PRC.GlobVar.PrcLocRtData.PrcPosActOs3',\n",
    " 'PRC.GlobVar.PrcLocRtData.PrcPosActOs4',\n",
    " 'PRC.GlobVar.PrcLocRtData.PrcPosActOs5',\n",
    " 'PRC.GlobVar.PrcLocRtData.Prc1PosRef',\n",
    " 'PRC.GlobVar.PrcLocRtData.Prc2PosRef',\n",
    " 'PRC.GlobVar.PrcLocRtData.Prc3PosRef',\n",
    " 'PRC.GlobVar.PrcLocRtData.Prc4PosRef',\n",
    " 'PRC.GlobVar.PrcLocRtData.Prc5PosRef','GFC._Hmi2Gfc.Hmi2Gfc.GfcTailMskLenBot_SetV',\n",
    " 'GFC._Hmi2Gfc.Hmi2Gfc.GfcTailMskLenTop_SetV'],axis=1, inplace=True)"
   ]
  },
  {
   "cell_type": "code",
   "execution_count": 330,
   "metadata": {
    "collapsed": true
   },
   "outputs": [],
   "source": [
    "for i in range(1,10):\n",
    "    data['EMC.GlobVar.EmcLocRtData.Mot_PosMean'+str(i)] = data[['EMC.GlobVar.EmcLocRtData.Mot_Pos_Act_Ds['+str(i)+ ']','EMC.GlobVar.EmcLocRtData.Mot_Pos_Act_Os['+str(i)+ ']']].mean(axis=1)\n",
    "    data['EMC.GlobVar.EmcLocRtData.Mot_PosDiff'+str(i)] = data['EMC.GlobVar.EmcLocRtData.Car_Pos_Ref['+str(i) + ']'] - data[ 'EMC.GlobVar.EmcLocRtData.Mot_PosMean'+str(i)] \n",
    "    data['EMC.GlobVar.EmcLocRtData.Mot_Pos_DsOsdiff'+str(i)] = data['EMC.GlobVar.EmcLocRtData.Mot_Pos_Act_Ds['+str(i) + ']'] - data['EMC.GlobVar.EmcLocRtData.Mot_Pos_Act_Os['+str(i) + ']']\n",
    "\n",
    "data['EMC.GlobVar.EmcLocRtData.Mot_PosMean'] = data[[x for x in data.columns if x.startswith('EMC.GlobVar.EmcLocRtData.Mot_PosMean')]].mean(axis=1)\n",
    "data['EMC.GlobVar.EmcLocRtData.Mot_Pos_DsOsdiff_sum'] = data[[x for x in data.columns if x.startswith('EMC.GlobVar.EmcLocRtData.Mot_Pos_DsOsdiff')]].sum(axis=1)\n",
    "data['EMC.GlobVar.EmcLocRtData.Mot_PosDiff_sum'] = data[[x for x in data.columns if x.startswith('EMC.GlobVar.EmcLocRtData.Mot_PosDiff')]].sum(axis=1)\n",
    "\n",
    "    \n",
    "data.drop(['EMC.GlobVar.EmcLocRtData.Mot_Pos_Act_Ds[1]',\n",
    " 'EMC.GlobVar.EmcLocRtData.Mot_Pos_Act_Ds[2]',\n",
    " 'EMC.GlobVar.EmcLocRtData.Mot_Pos_Act_Ds[3]',\n",
    " 'EMC.GlobVar.EmcLocRtData.Mot_Pos_Act_Ds[4]',\n",
    " 'EMC.GlobVar.EmcLocRtData.Mot_Pos_Act_Ds[5]',\n",
    " 'EMC.GlobVar.EmcLocRtData.Mot_Pos_Act_Ds[6]',\n",
    " 'EMC.GlobVar.EmcLocRtData.Mot_Pos_Act_Ds[7]',\n",
    " 'EMC.GlobVar.EmcLocRtData.Mot_Pos_Act_Ds[8]',\n",
    " 'EMC.GlobVar.EmcLocRtData.Mot_Pos_Act_Ds[9]',\n",
    " 'EMC.GlobVar.EmcLocRtData.Mot_Pos_Act_Os[1]',\n",
    " 'EMC.GlobVar.EmcLocRtData.Mot_Pos_Act_Os[2]',\n",
    " 'EMC.GlobVar.EmcLocRtData.Mot_Pos_Act_Os[3]',\n",
    " 'EMC.GlobVar.EmcLocRtData.Mot_Pos_Act_Os[4]',\n",
    " 'EMC.GlobVar.EmcLocRtData.Mot_Pos_Act_Os[5]',\n",
    " 'EMC.GlobVar.EmcLocRtData.Mot_Pos_Act_Os[6]',\n",
    " 'EMC.GlobVar.EmcLocRtData.Mot_Pos_Act_Os[7]',\n",
    " 'EMC.GlobVar.EmcLocRtData.Mot_Pos_Act_Os[8]',\n",
    " 'EMC.GlobVar.EmcLocRtData.Mot_Pos_Act_Os[9]',\n",
    " 'EMC.GlobVar.EmcLocRtData.Car_Pos_Ref[1]',\n",
    " 'EMC.GlobVar.EmcLocRtData.Car_Pos_Ref[2]',\n",
    " 'EMC.GlobVar.EmcLocRtData.Car_Pos_Ref[3]',\n",
    " 'EMC.GlobVar.EmcLocRtData.Car_Pos_Ref[4]',\n",
    " 'EMC.GlobVar.EmcLocRtData.Car_Pos_Ref[5]',\n",
    " 'EMC.GlobVar.EmcLocRtData.Car_Pos_Ref[6]',\n",
    " 'EMC.GlobVar.EmcLocRtData.Car_Pos_Ref[7]',\n",
    " 'EMC.GlobVar.EmcLocRtData.Car_Pos_Ref[8]',\n",
    " 'EMC.GlobVar.EmcLocRtData.Car_Pos_Ref[9]'],axis=1, inplace=True)"
   ]
  },
  {
   "cell_type": "code",
   "execution_count": 331,
   "metadata": {
    "collapsed": true
   },
   "outputs": [],
   "source": [
    "data['dist_from_plt_mean'] = data[['THL.ResGlobVar.ThlLocRtData.Mot_Pos_Act[1]','THL.ResGlobVar.ThlLocRtData.Mot_Pos_Act[2]',\n",
    " 'THL.ResGlobVar.ThlLocRtData.Mot_Pos_Act[3]',\n",
    " 'THL.ResGlobVar.ThlLocRtData.Mot_Pos_Act[4]',\n",
    " 'THL.ResGlobVar.ThlLocRtData.Mot_Pos_Act[5]',\n",
    " 'THL.ResGlobVar.ThlLocRtData.Mot_Pos_Act[6]',\n",
    " 'THL.ResGlobVar.ThlLocRtData.Mot_Pos_Act[7]',\n",
    " 'THL.ResGlobVar.ThlLocRtData.Mot_Pos_Act[8]',\n",
    " 'THL.ResGlobVar.ThlLocRtData.Mot_Pos_Act[9]']].mean(axis=1)\n",
    "\n",
    "data['dist_from_plt_sum'] = data[['THL.ResGlobVar.ThlLocRtData.Mot_Pos_Act[1]','THL.ResGlobVar.ThlLocRtData.Mot_Pos_Act[2]',\n",
    " 'THL.ResGlobVar.ThlLocRtData.Mot_Pos_Act[3]',\n",
    " 'THL.ResGlobVar.ThlLocRtData.Mot_Pos_Act[4]',\n",
    " 'THL.ResGlobVar.ThlLocRtData.Mot_Pos_Act[5]',\n",
    " 'THL.ResGlobVar.ThlLocRtData.Mot_Pos_Act[6]',\n",
    " 'THL.ResGlobVar.ThlLocRtData.Mot_Pos_Act[7]',\n",
    " 'THL.ResGlobVar.ThlLocRtData.Mot_Pos_Act[8]',\n",
    " 'THL.ResGlobVar.ThlLocRtData.Mot_Pos_Act[9]']].sum(axis=1)\n",
    "\n",
    "data.drop (['THL.ResGlobVar.ThlLocRtData.Mot_Pos_Act[1]',\n",
    " 'THL.ResGlobVar.ThlLocRtData.Mot_Pos_Act[2]',\n",
    " 'THL.ResGlobVar.ThlLocRtData.Mot_Pos_Act[3]',\n",
    " 'THL.ResGlobVar.ThlLocRtData.Mot_Pos_Act[4]',\n",
    " 'THL.ResGlobVar.ThlLocRtData.Mot_Pos_Act[5]',\n",
    " 'THL.ResGlobVar.ThlLocRtData.Mot_Pos_Act[6]',\n",
    " 'THL.ResGlobVar.ThlLocRtData.Mot_Pos_Act[7]',\n",
    " 'THL.ResGlobVar.ThlLocRtData.Mot_Pos_Act[8]',\n",
    " 'THL.ResGlobVar.ThlLocRtData.Mot_Pos_Act[9]',\n",
    " 'THL.ResGlobVar.ThlLocRtData.Mot_Pos_Ref[1]',\n",
    " 'THL.ResGlobVar.ThlLocRtData.Mot_Pos_Ref[2]',\n",
    " 'THL.ResGlobVar.ThlLocRtData.Mot_Pos_Ref[3]',\n",
    " 'THL.ResGlobVar.ThlLocRtData.Mot_Pos_Ref[4]',\n",
    " 'THL.ResGlobVar.ThlLocRtData.Mot_Pos_Ref[5]',\n",
    " 'THL.ResGlobVar.ThlLocRtData.Mot_Pos_Ref[6]',\n",
    " 'THL.ResGlobVar.ThlLocRtData.Mot_Pos_Ref[7]',\n",
    " 'THL.ResGlobVar.ThlLocRtData.Mot_Pos_Ref[8]',\n",
    " 'THL.ResGlobVar.ThlLocRtData.Mot_Pos_Ref[9]'], axis=1, inplace=True)"
   ]
  },
  {
   "cell_type": "code",
   "execution_count": 332,
   "metadata": {},
   "outputs": [],
   "source": [
    "flow_cols = [x for x in data.columns if 'Flw' in x and ('WatAbs' not in x) and ('Ratio' not in x)]\n",
    "data[flow_cols] = data[flow_cols].apply(lambda x: x/100)"
   ]
  },
  {
   "cell_type": "code",
   "execution_count": 333,
   "metadata": {
    "collapsed": true
   },
   "outputs": [],
   "source": [
    "data[ 'SCC._SccRtData.SccRtData.SpecFlw_Bot_SUM'] = data[['SCC._SccRtData.SccRtData.SpecFlwAct_Bot[1]',\n",
    "'SCC._SccRtData.SccRtData.SpecFlwAct_Bot[2]',\n",
    "'SCC._SccRtData.SccRtData.SpecFlwAct_Bot[3]',\n",
    "'SCC._SccRtData.SccRtData.SpecFlwAct_Bot[4]']].sum(axis=1)\n",
    "\n",
    "data[ 'SCC._SccRtData.SccRtData.SpecFlw_TOP_SUM'] = data[[ 'SCC._SccRtData.SccRtData.SpecFlwAct_Top[1]',\n",
    " 'SCC._SccRtData.SccRtData.SpecFlwAct_Top[2]',\n",
    " 'SCC._SccRtData.SccRtData.SpecFlwAct_Top[3]',\n",
    " 'SCC._SccRtData.SccRtData.SpecFlwAct_Top[4]']].sum(axis=1)\n",
    "    \n",
    "data[ 'SCC._SccRtData.SccRtData.SpecFlw_Bot_SUM_task'] = data[['SCC.GlobVar.SccCtrlInput_Bot.SpecFlwRef[1]',\n",
    " 'SCC.GlobVar.SccCtrlInput_Bot.SpecFlwRef[2]',\n",
    " 'SCC.GlobVar.SccCtrlInput_Bot.SpecFlwRef[3]',\n",
    " 'SCC.GlobVar.SccCtrlInput_Bot.SpecFlwRef[4]']].sum(axis=1)\n",
    "\n",
    "data[ 'SCC._SccRtData.SccRtData.SpecFlw_TOP_SUM_task'] = data[[ 'SCC.GlobVar.SccCtrlInput_Top.SpecFlwRef[1]',\n",
    " 'SCC.GlobVar.SccCtrlInput_Top.SpecFlwRef[2]',\n",
    " 'SCC.GlobVar.SccCtrlInput_Top.SpecFlwRef[3]',\n",
    " 'SCC.GlobVar.SccCtrlInput_Top.SpecFlwRef[4]']].sum(axis=1)    \n",
    "\n",
    "data.drop(['SCC.GlobVar.SccCtrlInput_Bot.SpecFlwRef[1]',\n",
    " 'SCC.GlobVar.SccCtrlInput_Bot.SpecFlwRef[2]',\n",
    " 'SCC.GlobVar.SccCtrlInput_Bot.SpecFlwRef[3]',\n",
    " 'SCC.GlobVar.SccCtrlInput_Bot.SpecFlwRef[4]',\n",
    " 'SCC._SccRtData.SccRtData.SpecFlwAct_Bot[1]',\n",
    " 'SCC._SccRtData.SccRtData.SpecFlwAct_Bot[2]',\n",
    " 'SCC._SccRtData.SccRtData.SpecFlwAct_Bot[3]',\n",
    " 'SCC._SccRtData.SccRtData.SpecFlwAct_Bot[4]',\n",
    " 'SCC.GlobVar.SccCtrlInput_Top.SpecFlwRef[1]',\n",
    " 'SCC.GlobVar.SccCtrlInput_Top.SpecFlwRef[2]',\n",
    " 'SCC.GlobVar.SccCtrlInput_Top.SpecFlwRef[3]',\n",
    " 'SCC.GlobVar.SccCtrlInput_Top.SpecFlwRef[4]',\n",
    " 'SCC._SccRtData.SccRtData.SpecFlwAct_Top[1]',\n",
    " 'SCC._SccRtData.SccRtData.SpecFlwAct_Top[2]',\n",
    " 'SCC._SccRtData.SccRtData.SpecFlwAct_Top[3]',\n",
    " 'SCC._SccRtData.SccRtData.SpecFlwAct_Top[4]'],axis=1, inplace=True)\n",
    "\n"
   ]
  },
  {
   "cell_type": "code",
   "execution_count": 334,
   "metadata": {
    "collapsed": true
   },
   "outputs": [],
   "source": [
    "data['BHC_cen_act_degree_sum'] = data[[x for x in data.columns if x.startswith('BHC.GlobVar.AccCtrlOutput_Cen.FlwCtrlAdj')]].sum(axis = 1)\n",
    "\n",
    "data['BHC_cen_flow_sum_act'] = data[[x for x in data.columns if x.startswith('BHC.GlobVar.AccCtrlOutput_Cen.SpecFlwAct')]].sum(axis=1)\n",
    "\n",
    "\n",
    "data['BHC_cen_flow_act_mean'] = data[[x for x in data.columns if x.startswith('BHC.GlobVar.AccCtrlOutput_Cen.SpecFlwAct')]].mean(axis = 1)\n",
    "\n",
    "data.drop([x for x in data.columns if x.startswith('BHC.GlobVar.AccCtrlOutput_Cen.SpecFlwAct') or  \n",
    "           x.startswith('BHC.GlobVar.AccCtrlOutput_Cen.FlwCtrlAdj')], axis = 1, inplace=True)\n",
    "\n",
    "\n",
    "data['BHC_out_act_degree_mean'] = data[[x for x in data.columns if x.startswith('BHC.GlobVar.AccCtrlOutput_Out.FlwCtrlAdj')]].mean(axis=1)  \n",
    "\n",
    "data['BHC_out_act_mean'] = data[[x for x in data.columns if x.startswith('BHC.GlobVar.AccCtrlOutput_Out.SpecFlwAct')]].mean(axis=1)             \n",
    "\n",
    "data['BHC_out_act_degree_sum'] = data[[x for x in data.columns if x.startswith('BHC.GlobVar.AccCtrlOutput_Out.FlwCtrlAdj')]].sum(axis=1) \n",
    "\n",
    "data['BHC_out_act_sum'] = data[[x for x in data.columns if x.startswith('BHC.GlobVar.AccCtrlOutput_Out.SpecFlwAct')]].sum(axis=1) \n",
    "\n",
    "\n",
    "data.drop([x for x in data.columns if x.startswith('BHC.GlobVar.AccCtrlOutput_Out.SpecFlwAct') \n",
    "           or x.startswith('BHC.GlobVar.AccCtrlOutput_Out.FlwCtrlAdj')], axis=1, inplace=True)\n",
    "\n",
    "data['THC_cen_act_degree_sum'] = data[[x for x in data.columns if x.startswith('THC.GlobVar.AccCtrlOutput_Cen.FlwCtrlAdj')]].sum(axis=1)\n",
    "\n",
    "data['THC_cen_flow_sum_act'] = data[[x for x in data.columns if x.startswith('THC.GlobVar.AccCtrlOutput_Cen.SpecFlwAct')]].sum(axis=1)\n",
    "\n",
    "\n",
    "data['THC_cen_flow_mean_act'] = data[[x for x in data.columns if x.startswith('THC.GlobVar.AccCtrlOutput_Cen.SpecFlwAct')]].mean(axis=1)\n",
    "\n",
    "data.drop([x for x in data.columns if x.startswith('THC.GlobVar.AccCtrlOutput_Cen.SpecFlwAct') or\n",
    "         x.startswith('THC.GlobVar.AccCtrlOutput_Cen.FlwCtrlAdj') ], axis=1, inplace=True)\n",
    "\n",
    "\n",
    "data['THC_out_degree_sum_act'] = data[[x for x in data.columns if x.startswith('THC.GlobVar.AccCtrlOutput_Out.FlwCtrlAdj')]].sum(axis=1)\n",
    "\n",
    "[x for x in data.columns if x.startswith('THC.GlobVar.AccCtrlOutput_Out.SpecFlwAct')]\n",
    "data['THC_out_flow_sum_act'] = data[[x for x in data.columns if x.startswith('THC.GlobVar.AccCtrlOutput_Out.SpecFlwAct')]].sum(axis=1)\n",
    "\n",
    "data['THC_out_flow_mean_act'] = data[[x for x in data.columns if x.startswith('THC.GlobVar.AccCtrlOutput_Out.SpecFlwAct')]].mean(axis=1)\n",
    "\n",
    "\n",
    "data.drop([x for x in data.columns if x.startswith('THC.GlobVar.AccCtrlOutput_Out.SpecFlwAct') or\n",
    "          x.startswith('THC.GlobVar.AccCtrlOutput_Out.FlwCtrlAdj')], axis=1, inplace=True)"
   ]
  },
  {
   "cell_type": "code",
   "execution_count": 335,
   "metadata": {
    "collapsed": true
   },
   "outputs": [],
   "source": [
    "data['BHC_cen_degree_sum_task'] = data[[x for x in data.columns if x.startswith('BHC.GlobVar.AccCtrlInput_Cen.FlwCtrlAdjFbk')]].sum(axis=1)\n",
    "\n",
    "data['BHC_out_degree_sum_task'] = data[[x for x in data.columns if x.startswith('BHC.GlobVar.AccCtrlInput_Out.FlwCtrlAdjFbk')]].sum(axis=1)\n",
    "\n",
    "data['BHC_flow_cen_sum_task'] = data[[x for x in data.columns if x.startswith('BHC.GlobVar.AccCtrlInput_Cen.SpecFlwRef')]].sum(axis=1)\n",
    "data['BHC_flow_cen_mean_task'] = data[[x for x in data.columns if x.startswith('BHC.GlobVar.AccCtrlInput_Cen.SpecFlwRef')]].mean(axis=1)\n",
    "\n",
    "\n",
    "data['BHC_flow__out_sum_task'] = data[[x for x in data.columns if x.startswith('BHC.GlobVar.AccCtrlInput_Out.SpecFlwRef')]].sum(axis=1)\n",
    "\n",
    "data['BHC_flow__out_mean_task'] = data[[x for x in data.columns if x.startswith('BHC.GlobVar.AccCtrlInput_Out.SpecFlwRef')]].mean(axis=1)\n",
    "\n",
    "data['THC_degree_cen_sum_task'] = data[[x for x in data.columns if x.startswith('THC.GlobVar.AccCtrlInput_Cen.FlwCtrlAdjFbk')]].sum(axis=1)\n",
    "\n",
    "data['THC_flow_cen_sum_task'] = data[[x for x in data.columns if x.startswith('THC.GlobVar.AccCtrlInput_Cen.SpecFlwRef')]].sum(axis=1)\n",
    "\n",
    "data['THC_flow_cen_mean_task'] = data[[x for x in data.columns if x.startswith('THC.GlobVar.AccCtrlInput_Cen.SpecFlwRef')]].mean(axis=1)\n",
    "\n",
    "\n",
    "data['THC_out_degree_sum_task'] = data[[x for x in data.columns if x.startswith('THC.GlobVar.AccCtrlInput_Out.FlwCtrlAdjFbk')]].sum(axis=1) \n",
    "\n",
    "\n",
    "data['THC_out_flow_sum_task'] = data[[x for x in data.columns if x.startswith('THC.GlobVar.AccCtrlInput_Out.SpecFlwRef')]].sum(axis=1)\n",
    "\n",
    "data['THC_out_flow_mean_task'] = data[[x for x in data.columns if x.startswith('THC.GlobVar.AccCtrlInput_Out.SpecFlwRef')]].mean(axis=1)\n",
    "\n",
    "\n",
    "data.drop([x for x in data.columns if x.startswith('THC.GlobVar.AccCtrlInput_Out.SpecFlwRef') or\n",
    "           x.startswith('THC.GlobVar.AccCtrlInput_Out.FlwCtrlAdjFbk') or x.startswith('THC.GlobVar.AccCtrlInput_Cen.SpecFlwRef') or\n",
    "           x.startswith('THC.GlobVar.AccCtrlInput_Cen.FlwCtrlAdjFbk') or\n",
    "           x.startswith('BHC.GlobVar.AccCtrlInput_Out.SpecFlwRef')\n",
    "          or  x.startswith('BHC.GlobVar.AccCtrlInput_Cen.FlwCtrlAdjFbk') or  x.startswith('BHC.GlobVar.AccCtrlInput_Out.FlwCtrlAdjFbk')\n",
    "          or x.startswith('BHC.GlobVar.AccCtrlInput_Cen.SpecFlwRef')], axis=1, inplace = True)"
   ]
  },
  {
   "cell_type": "code",
   "execution_count": 336,
   "metadata": {
    "collapsed": true
   },
   "outputs": [],
   "source": [
    "data1_temp = data.loc[(data['GSF.GlobVar.AccTrkMap.PosHeadCol[1]']>=139.906)&(data['GFC.GlobVar.AccTrkMap.PosTailCol[1]']<=205.83)]\n",
    "data2_temp = data.loc[(data['GSF.GlobVar.AccTrkMap.PosHeadCol[2]']>=139.906)&(data['GFC.GlobVar.AccTrkMap.PosTailCol[2]']<=205.83)]"
   ]
  },
  {
   "cell_type": "code",
   "execution_count": 337,
   "metadata": {
    "collapsed": true
   },
   "outputs": [],
   "source": [
    "data1 = data.loc[(data['GSF.GlobVar.AccTrkMap.PosHeadCol[1]']>=148.83)&(data['GFC.GlobVar.AccTrkMap.PosTailCol[2]']<=185.83)]\n",
    "data2 = data.loc[(data['GSF.GlobVar.AccTrkMap.PosHeadCol[2]']>=148.83)&(data['GFC.GlobVar.AccTrkMap.PosTailCol[2]']<=185.83)]"
   ]
  },
  {
   "cell_type": "code",
   "execution_count": 338,
   "metadata": {},
   "outputs": [
    {
     "data": {
      "text/plain": [
       "240.22099999999998"
      ]
     },
     "execution_count": 338,
     "metadata": {},
     "output_type": "execute_result"
    }
   ],
   "source": [
    "data1.loc[data1['GFC.GlobVar.AccTrkMap.PltSpdCol[2]']<0]['GSF.GlobVar.AccTrkMap.PosHeadCol[1]'].max()"
   ]
  },
  {
   "cell_type": "code",
   "execution_count": 264,
   "metadata": {},
   "outputs": [
    {
     "name": "stdout",
     "output_type": "stream",
     "text": [
      "71594\n",
      "40105\n",
      "195489\n",
      "111699\n"
     ]
    }
   ],
   "source": [
    "print len(data1)\n",
    "print len(data2)\n",
    "print len(data)\n",
    "print len(data1)+len(data2)"
   ]
  },
  {
   "cell_type": "code",
   "execution_count": 265,
   "metadata": {
    "collapsed": true
   },
   "outputs": [],
   "source": [
    "data1_temp['pltid'] = data1_temp['id1']\n",
    "data2_temp['pltid'] = data2_temp['id2']\n",
    "\n",
    "data1['pltid'] = data1['id1']\n",
    "data2['pltid'] = data2['id2']"
   ]
  },
  {
   "cell_type": "code",
   "execution_count": 266,
   "metadata": {
    "collapsed": true
   },
   "outputs": [],
   "source": [
    "droplist = ['GFC.GlobVar.AccPyr.Pyr[5].Tmp',\n",
    " 'GFC.GlobVar.AccPyr.Pyr[6].Tmp',\n",
    " 'GFC.GlobVar.AccPyr.Pyr[7].Tmp',\n",
    " 'GFC.GlobVar.AccPyr.Pyr[8].Tmp',\n",
    " 'GFC.GlobVar.AccPyr.Pyr[14].Tmp',\n",
    " 'GfcPdiIdSeq1_Date_ActV',\n",
    " 'GfcPdiIdSeq1_Number_ActV',\n",
    " 'GfcPdiIdSeq2_Date_ActV',\n",
    " 'GfcPdiIdSeq2_Number_ActV',\n",
    "'GFC.GlobVar.AccTrkMap.PosTailCol[1]',\n",
    " 'GFC.GlobVar.AccTrkMap.PltSpdCol[1]',\n",
    " 'GFC.GlobVar.AccTrkMap.PltSpdCol[2]',\n",
    " 'GFC.GlobVar.AccTrkMap.PosTailCol[2]',\n",
    "            \n",
    "        'GSF.GlobVar.AccTrkMap.PosHeadCol[1]',\n",
    " 'GSF.GlobVar.AccTrkMap.PosHeadCol[2]',\n",
    "    'id1',\n",
    " 'id2',\n",
    "'PRC.GlobVar.PrcLocRtData.PrcPosMean1',\n",
    " 'PRC.GlobVar.PrcLocRtData.PrcPos_DsOsdiff1',\n",
    " 'PRC.GlobVar.PrcLocRtData.PrcPosDiff1',\n",
    " 'PRC.GlobVar.PrcLocRtData.PrcPosMean2',\n",
    " 'PRC.GlobVar.PrcLocRtData.PrcPos_DsOsdiff2',\n",
    " 'PRC.GlobVar.PrcLocRtData.PrcPosDiff2',\n",
    " 'PRC.GlobVar.PrcLocRtData.PrcPosMean3',\n",
    " 'PRC.GlobVar.PrcLocRtData.PrcPos_DsOsdiff3',\n",
    " 'PRC.GlobVar.PrcLocRtData.PrcPosDiff3',\n",
    " 'PRC.GlobVar.PrcLocRtData.PrcPosMean4',\n",
    " 'PRC.GlobVar.PrcLocRtData.PrcPos_DsOsdiff4',\n",
    " 'PRC.GlobVar.PrcLocRtData.PrcPosDiff4',\n",
    " 'PRC.GlobVar.PrcLocRtData.PrcPosMean5',\n",
    " 'PRC.GlobVar.PrcLocRtData.PrcPos_DsOsdiff5',\n",
    " 'PRC.GlobVar.PrcLocRtData.PrcPosDiff5','EMC.GlobVar.EmcLocRtData.Mot_PosMean1',\n",
    " 'EMC.GlobVar.EmcLocRtData.Mot_PosDiff1',\n",
    " 'EMC.GlobVar.EmcLocRtData.Mot_Pos_DsOsdiff1',\n",
    " 'EMC.GlobVar.EmcLocRtData.Mot_PosMean2',\n",
    " 'EMC.GlobVar.EmcLocRtData.Mot_PosDiff2',\n",
    " 'EMC.GlobVar.EmcLocRtData.Mot_Pos_DsOsdiff2',\n",
    " 'EMC.GlobVar.EmcLocRtData.Mot_PosMean3',\n",
    " 'EMC.GlobVar.EmcLocRtData.Mot_PosDiff3',\n",
    " 'EMC.GlobVar.EmcLocRtData.Mot_Pos_DsOsdiff3',\n",
    " 'EMC.GlobVar.EmcLocRtData.Mot_PosMean4',\n",
    " 'EMC.GlobVar.EmcLocRtData.Mot_PosDiff4',\n",
    " 'EMC.GlobVar.EmcLocRtData.Mot_Pos_DsOsdiff4',\n",
    " 'EMC.GlobVar.EmcLocRtData.Mot_PosMean5',\n",
    " 'EMC.GlobVar.EmcLocRtData.Mot_PosDiff5',\n",
    " 'EMC.GlobVar.EmcLocRtData.Mot_Pos_DsOsdiff5',\n",
    " 'EMC.GlobVar.EmcLocRtData.Mot_PosMean6',\n",
    " 'EMC.GlobVar.EmcLocRtData.Mot_PosDiff6',\n",
    " 'EMC.GlobVar.EmcLocRtData.Mot_Pos_DsOsdiff6',\n",
    " 'EMC.GlobVar.EmcLocRtData.Mot_PosMean7',\n",
    " 'EMC.GlobVar.EmcLocRtData.Mot_PosDiff7',\n",
    " 'EMC.GlobVar.EmcLocRtData.Mot_Pos_DsOsdiff7',\n",
    " 'EMC.GlobVar.EmcLocRtData.Mot_PosMean8',\n",
    " 'EMC.GlobVar.EmcLocRtData.Mot_PosDiff8',\n",
    " 'EMC.GlobVar.EmcLocRtData.Mot_Pos_DsOsdiff8',\n",
    " 'EMC.GlobVar.EmcLocRtData.Mot_PosMean9',\n",
    " 'EMC.GlobVar.EmcLocRtData.Mot_PosDiff9',\n",
    " 'EMC.GlobVar.EmcLocRtData.Mot_Pos_DsOsdiff9']\n",
    "\n",
    "data1 = todrop(data1)\n",
    "data2 = todrop(data2)\n",
    "\n",
    "data1.drop(droplist, axis=1, inplace=True)\n",
    "data2.drop(droplist, axis=1, inplace=True)\n",
    "\n",
    "#cooling time\n",
    "\n",
    "col_time1 = data1.groupby('pltid')['time'].apply(lambda x: (x.max() - x.min()).seconds)\n",
    "col_time2 = data2.groupby('pltid')['time'].apply(lambda x: (x.max() - x.min()).seconds)"
   ]
  },
  {
   "cell_type": "code",
   "execution_count": 267,
   "metadata": {
    "collapsed": true
   },
   "outputs": [],
   "source": [
    "agg_cols = ['GFC.Ai._aiGfcPrsAirBlw',\n",
    " 'GFC._Gfc2Hmi.Gfc2Hmi.GfcHmiTmpWatScc_ActV',\n",
    " 'GFC._Gfc2Hmi.Gfc2Hmi.GfcHmiTmpWatLpc_ActV',\n",
    " 'GFC._Gfc2Hmi.Gfc2Hmi.GfcHmiGenWtsAirTmp_ActV',\n",
    " 'GFC.Ai._aiGfcAirPrs',\n",
    " 'GFC._Gfc2Hmi.Gfc2Hmi.GfcHmiBtmTopFlwRatioSetMod_ActV',\n",
    " 'GFC._Hmi2Gfc.Hmi2Gfc.GfcHeadMskFlwTop_SetV',\n",
    " 'GFC._Hmi2Gfc.Hmi2Gfc.GfcHeadMskLenTop_SetV',\n",
    " 'GFC._Hmi2Gfc.Hmi2Gfc.GfcHeadMskFlwBot_SetV',\n",
    " 'GFC._Hmi2Gfc.Hmi2Gfc.GfcHeadMskLenBot_SetV',\n",
    " 'GFC._Hmi2Gfc.Hmi2Gfc.GfcTailMskFlwTop_SetV',\n",
    " 'GFC._Hmi2Gfc.Hmi2Gfc.GfcTailMskFlwBot_SetV',\n",
    " 'GFC.GlobVar.GfcLocRtData.GfcSccWatPrsScc',\n",
    " 'THC._ThcRtData.ThcRtData.WatAbsFlwSum',\n",
    " 'BHC._BhcRtData.BhcRtData.WatAbsFlwSum',\n",
    " 'PRC.GlobVar.PrcLocRtData.PrcPosMean',\n",
    " 'PRC.GlobVar.PrcLocRtData.PrcPos_DsOsdiff_sum',\n",
    " 'PRC.GlobVar.PrcLocRtData.PrcPosDiff_sum',\n",
    " 'EMC.GlobVar.EmcLocRtData.Mot_PosMean',\n",
    " 'EMC.GlobVar.EmcLocRtData.Mot_Pos_DsOsdiff_sum',\n",
    " 'EMC.GlobVar.EmcLocRtData.Mot_PosDiff_sum',\n",
    " 'dist_from_plt_mean',\n",
    " 'dist_from_plt_sum',\n",
    " 'SCC._SccRtData.SccRtData.SpecFlw_Bot_SUM',\n",
    " 'SCC._SccRtData.SccRtData.SpecFlw_TOP_SUM',\n",
    " 'SCC._SccRtData.SccRtData.SpecFlw_Bot_SUM_task',\n",
    " 'SCC._SccRtData.SccRtData.SpecFlw_TOP_SUM_task',\n",
    " 'BHC_cen_act_degree_sum',\n",
    " 'BHC_cen_flow_sum_act',\n",
    " 'BHC_cen_flow_act_mean',\n",
    " 'BHC_out_act_degree_mean',\n",
    " 'BHC_out_act_mean',\n",
    " 'BHC_out_act_degree_sum',\n",
    " 'BHC_out_act_sum',\n",
    " 'THC_cen_act_degree_sum',\n",
    " 'THC_cen_flow_sum_act',\n",
    " 'THC_cen_flow_mean_act',\n",
    " 'THC_out_degree_sum_act',\n",
    " 'THC_out_flow_sum_act',\n",
    " 'THC_out_flow_mean_act',\n",
    " 'BHC_cen_degree_sum_task',\n",
    " 'BHC_out_degree_sum_task',\n",
    " 'BHC_flow_cen_sum_task',\n",
    " 'BHC_flow_cen_mean_task',\n",
    " 'BHC_flow__out_sum_task',\n",
    " 'BHC_flow__out_mean_task',\n",
    " 'THC_degree_cen_sum_task',\n",
    " 'THC_flow_cen_sum_task',\n",
    " 'THC_flow_cen_mean_task',\n",
    " 'THC_out_degree_sum_task',\n",
    " 'THC_out_flow_sum_task',\n",
    " 'THC_out_flow_mean_task']\n",
    "\n",
    "\n",
    "all_median1 = data1.groupby('pltid')[agg_cols].median().reset_index()\n",
    "all_mean1 =  data1.groupby('pltid')[agg_cols].mean().reset_index()\n",
    "all_median2 = data2.groupby('pltid')[agg_cols].median().reset_index()\n",
    "all_mean2 =  data2.groupby('pltid')[agg_cols].mean().reset_index()\n",
    "\n",
    "all_mean = pd.concat([all_mean1, all_mean2])\n",
    "all_median = pd.concat([all_median1, all_median2])\n",
    "col_time = pd.concat([col_time1, col_time2])\n",
    "\n",
    "all1 = pd.merge(all_mean, all_median, on='pltid', suffixes=['_mean', '_median'])\n",
    "all2 = pd.merge(col_time.reset_index(), all1, on='pltid')"
   ]
  },
  {
   "cell_type": "code",
   "execution_count": 268,
   "metadata": {
    "collapsed": true
   },
   "outputs": [],
   "source": [
    "all2.to_csv('done686.csv', sep=';', index=False)"
   ]
  },
  {
   "cell_type": "code",
   "execution_count": 146,
   "metadata": {
    "collapsed": true
   },
   "outputs": [
    {
     "data": {
      "text/plain": [
       "['time',\n",
       " 'GFC.Ai._aiGfcPrsAirBlw',\n",
       " 'GFC.GlobVar.AccPyr.Pyr[5].Tmp',\n",
       " 'GFC.GlobVar.AccPyr.Pyr[6].Tmp',\n",
       " 'GFC.GlobVar.AccPyr.Pyr[7].Tmp',\n",
       " 'GFC.GlobVar.AccPyr.Pyr[8].Tmp',\n",
       " 'GFC.GlobVar.AccPyr.Pyr[14].Tmp',\n",
       " 'GfcPdiIdSeq1_Date_ActV',\n",
       " 'GfcPdiIdSeq1_Number_ActV',\n",
       " 'GfcPdiIdSeq2_Date_ActV',\n",
       " 'GfcPdiIdSeq2_Number_ActV',\n",
       " 'GFC._Gfc2Hmi.Gfc2Hmi.GfcHmiTmpWatScc_ActV',\n",
       " 'GFC._Gfc2Hmi.Gfc2Hmi.GfcHmiTmpWatLpc_ActV',\n",
       " 'GFC._Gfc2Hmi.Gfc2Hmi.GfcHmiGenWtsAirTmp_ActV',\n",
       " 'GFC.GlobVar.AccTrkMap.PosTailCol[1]',\n",
       " 'GFC.GlobVar.AccTrkMap.PltSpdCol[1]',\n",
       " 'GFC.GlobVar.AccTrkMap.PltSpdCol[2]',\n",
       " 'GFC.GlobVar.AccTrkMap.PosTailCol[2]',\n",
       " 'GFC.Ai._aiGfcAirPrs',\n",
       " 'GFC._Gfc2Hmi.Gfc2Hmi.GfcHmiBtmTopFlwRatioManRef_ActV',\n",
       " 'GFC._Gfc2Hmi.Gfc2Hmi.GfcHmiBtmTopFlwRatioSetMod_ActV',\n",
       " 'GFC._Hmi2Gfc.Hmi2Gfc.GfcHeadMskFlwTop_SetV',\n",
       " 'GFC._Hmi2Gfc.Hmi2Gfc.GfcHeadMskLenTop_SetV',\n",
       " 'GFC._Hmi2Gfc.Hmi2Gfc.GfcHeadMskFlwBot_SetV',\n",
       " 'GFC._Hmi2Gfc.Hmi2Gfc.GfcHeadMskLenBot_SetV',\n",
       " 'GFC._Hmi2Gfc.Hmi2Gfc.GfcTailMskFlwTop_SetV',\n",
       " 'GFC._Hmi2Gfc.Hmi2Gfc.GfcTailMskFlwBot_SetV',\n",
       " 'GSF.GlobVar.AccTrkMap.PosHeadCol[1]',\n",
       " 'GSF.GlobVar.AccTrkMap.PosHeadCol[2]',\n",
       " 'GFC.GlobVar.GfcLocRtData.GfcSccWatPrsScc',\n",
       " 'THC._ThcRtData.ThcRtData.WatAbsFlwSum',\n",
       " 'BHC._BhcRtData.BhcRtData.WatAbsFlwSum',\n",
       " 'id1',\n",
       " 'id2',\n",
       " 'PRC.GlobVar.PrcLocRtData.PrcPosMean1',\n",
       " 'PRC.GlobVar.PrcLocRtData.PrcPosDiff1',\n",
       " 'PRC.GlobVar.PrcLocRtData.PrcPosMean2',\n",
       " 'PRC.GlobVar.PrcLocRtData.PrcPosDiff2',\n",
       " 'PRC.GlobVar.PrcLocRtData.PrcPosMean3',\n",
       " 'PRC.GlobVar.PrcLocRtData.PrcPosDiff3',\n",
       " 'PRC.GlobVar.PrcLocRtData.PrcPosMean4',\n",
       " 'PRC.GlobVar.PrcLocRtData.PrcPosDiff4',\n",
       " 'PRC.GlobVar.PrcLocRtData.PrcPosMean5',\n",
       " 'PRC.GlobVar.PrcLocRtData.PrcPosDiff5',\n",
       " 'EMC.GlobVar.EmcLocRtData.Mot_PosMean1',\n",
       " 'EMC.GlobVar.EmcLocRtData.Mot_PosDiff1',\n",
       " 'EMC.GlobVar.EmcLocRtData.Mot_PosMean2',\n",
       " 'EMC.GlobVar.EmcLocRtData.Mot_PosDiff2',\n",
       " 'EMC.GlobVar.EmcLocRtData.Mot_PosMean3',\n",
       " 'EMC.GlobVar.EmcLocRtData.Mot_PosDiff3',\n",
       " 'EMC.GlobVar.EmcLocRtData.Mot_PosMean4',\n",
       " 'EMC.GlobVar.EmcLocRtData.Mot_PosDiff4',\n",
       " 'EMC.GlobVar.EmcLocRtData.Mot_PosMean5',\n",
       " 'EMC.GlobVar.EmcLocRtData.Mot_PosDiff5',\n",
       " 'EMC.GlobVar.EmcLocRtData.Mot_PosMean6',\n",
       " 'EMC.GlobVar.EmcLocRtData.Mot_PosDiff6',\n",
       " 'EMC.GlobVar.EmcLocRtData.Mot_PosMean7',\n",
       " 'EMC.GlobVar.EmcLocRtData.Mot_PosDiff7',\n",
       " 'EMC.GlobVar.EmcLocRtData.Mot_PosMean8',\n",
       " 'EMC.GlobVar.EmcLocRtData.Mot_PosDiff8',\n",
       " 'EMC.GlobVar.EmcLocRtData.Mot_PosMean9',\n",
       " 'EMC.GlobVar.EmcLocRtData.Mot_PosDiff9',\n",
       " 'dist_from plt_mean',\n",
       " 'dist_from plt_sum',\n",
       " 'SCC._SccRtData.SccRtData.SpecFlw_Bot_SUM',\n",
       " 'SCC._SccRtData.SccRtData.SpecFlw_TOP_SUM',\n",
       " 'SCC._SccRtData.SccRtData.SpecFlw_Bot_SUM_task',\n",
       " 'SCC._SccRtData.SccRtData.SpecFlw_TOP_SUM_task',\n",
       " 'BHC_cen_act_degree_sum',\n",
       " 'BHC_cen_flow_sum_act',\n",
       " 'BHC_cen_flow_act_mean',\n",
       " 'BHC_out_act_mean',\n",
       " 'BHC_out_act_sum',\n",
       " 'THC_cen_act_sum',\n",
       " 'THC_cen_flow_sum_act',\n",
       " 'THC_cen_flow_mean_act',\n",
       " 'THC_out_degree_sum_act',\n",
       " 'THC_out_flow_sum_act',\n",
       " 'THC_out_flow_mean_act',\n",
       " 'BHC_cen_degree_sum_task',\n",
       " 'BHC_out_degree_sum_task',\n",
       " 'BHC_flow__out_sum_task',\n",
       " 'BHC_flow__out_mean_task',\n",
       " 'THC_degree_cen_sum_task',\n",
       " 'THC_flow_cen_sum_task',\n",
       " 'THC_flow_cen_mean_task',\n",
       " 'THC_out_degree_sum_task',\n",
       " 'THC_out_flow_sum_task',\n",
       " 'THC_out_flow_mean_task',\n",
       " 'pltid']"
      ]
     },
     "execution_count": 146,
     "metadata": {},
     "output_type": "execute_result"
    }
   ],
   "source": [
    "data1.columns.tolist()"
   ]
  },
  {
   "cell_type": "code",
   "execution_count": 92,
   "metadata": {
    "collapsed": true
   },
   "outputs": [],
   "source": [
    "c = data1.loc[data1['GFC.GlobVar.AccTrkMap.PltSpdCol[1]']>2.5].id1.unique().tolist()"
   ]
  },
  {
   "cell_type": "code",
   "execution_count": 232,
   "metadata": {},
   "outputs": [
    {
     "data": {
      "image/png": "[encoded data removed]",
      "text/plain": [
       "<matplotlib.figure.Figure at 0x7f0e5e8b73d0>"
      ]
     },
     "metadata": {},
     "output_type": "display_data"
    }
   ],
   "source": [
    "(data1.loc[data1.pltid== 2016092300590000]['PRC.GlobVar.PrcLocRtData.Prc1PosRef'] - data1.loc[data1.pltid== 2016092300590000]['PRC.GlobVar.PrcLocRtData.PrcPosActDs1']).plot()\n",
    "plt.show()"
   ]
  },
  {
   "cell_type": "code",
   "execution_count": null,
   "metadata": {
    "collapsed": true
   },
   "outputs": [],
   "source": [
    "data1.c"
   ]
  },
  {
   "cell_type": "code",
   "execution_count": 35,
   "metadata": {
    "collapsed": true
   },
   "outputs": [],
   "source": [
    "l = pd.read_csv('../relevant/dataset120517.csv', sep=';') #"
   ]
  },
  {
   "cell_type": "code",
   "execution_count": 39,
   "metadata": {},
   "outputs": [
    {
     "data": {
      "text/plain": [
       "21"
      ]
     },
     "execution_count": 39,
     "metadata": {},
     "output_type": "execute_result"
    }
   ],
   "source": [
    "l.loc[(l.NOT_IN_25_0C==1)]['IS_FIRST'].sum()"
   ]
  },
  {
   "cell_type": "code",
   "execution_count": 40,
   "metadata": {},
   "outputs": [
    {
     "data": {
      "text/plain": [
       "236"
      ]
     },
     "execution_count": 40,
     "metadata": {},
     "output_type": "execute_result"
    }
   ],
   "source": [
    "len(l.loc[(l.NOT_IN_25_0C==1)])"
   ]
  },
  {
   "cell_type": "code",
   "execution_count": 26,
   "metadata": {
    "collapsed": true
   },
   "outputs": [
    {
     "data": {
      "text/plain": [
       "6911    475.129059\n",
       "6915    496.750214\n",
       "6917    479.629547\n",
       "6919    478.438202\n",
       "6921    476.793732\n",
       "6923    493.180969\n",
       "6925    487.764404\n",
       "6927    475.777618\n",
       "6929    489.849060\n",
       "6931    482.663635\n",
       "6933    485.315216\n",
       "6935    492.404419\n",
       "6937    483.831818\n",
       "6939    487.197815\n",
       "6941    487.839722\n",
       "6943    477.425934\n",
       "6945    477.239319\n",
       "6947    480.206604\n",
       "6949    488.076599\n",
       "6951    486.461792\n",
       "6953    485.050873\n",
       "6955    478.660950\n",
       "6957    501.625641\n",
       "6959    495.113770\n",
       "6961    483.789612\n",
       "6963    487.458466\n",
       "6965    483.500916\n",
       "6967    473.941040\n",
       "6969    474.986938\n",
       "6971    482.573090\n",
       "           ...    \n",
       "9316    481.717621\n",
       "9318    478.570648\n",
       "9320    499.910431\n",
       "9322    472.945435\n",
       "9324    484.018463\n",
       "9326    468.347748\n",
       "9328    485.657745\n",
       "9330    479.841919\n",
       "9332    492.162537\n",
       "9334    486.448425\n",
       "9336    484.687561\n",
       "9338    491.069397\n",
       "9340    488.931244\n",
       "9342    473.885284\n",
       "9344    485.667206\n",
       "9346    480.533508\n",
       "9348    485.592529\n",
       "9350    488.905182\n",
       "9352    489.312775\n",
       "9354    509.549438\n",
       "9356    505.735931\n",
       "9358    505.454987\n",
       "9361    493.022095\n",
       "9363    495.475372\n",
       "9365    483.735901\n",
       "9367    486.326996\n",
       "9369    485.067902\n",
       "9371    494.201721\n",
       "9373    489.876648\n",
       "9375    479.757965\n",
       "Name: TMP_STP_ALL_AVG, dtype: float64"
      ]
     },
     "execution_count": 26,
     "metadata": {},
     "output_type": "execute_result"
    }
   ],
   "source": [
    "l.loc[l.PIECE_ID.isin(data2.id2.unique().tolist())]['TMP_STP_ALL_AVG']"
   ]
  },
  {
   "cell_type": "code",
   "execution_count": 105,
   "metadata": {},
   "outputs": [
    {
     "data": {
      "text/plain": [
       "1870.0"
      ]
     },
     "execution_count": 105,
     "metadata": {},
     "output_type": "execute_result"
    }
   ],
   "source": [
    "float(len(data1.id1.unique()))"
   ]
  },
  {
   "cell_type": "code",
   "execution_count": 104,
   "metadata": {},
   "outputs": [
    {
     "data": {
      "text/plain": [
       "0.0035026269702276708"
      ]
     },
     "execution_count": 104,
     "metadata": {},
     "output_type": "execute_result"
    }
   ],
   "source": [
    "l.loc[l.PIECE_ID.isin(data2.id2.unique().tolist())]['NOT_IN_40_0C'].sum()/float(len(data2.id2.unique()))"
   ]
  },
  {
   "cell_type": "code",
   "execution_count": null,
   "metadata": {
    "collapsed": true
   },
   "outputs": [],
   "source": [
    "l.loc[l.PIECE_ID.isin(data1.id1.unique().tolist())]['NOT_IN_40_0C'].sum()"
   ]
  },
  {
   "cell_type": "code",
   "execution_count": 32,
   "metadata": {},
   "outputs": [
    {
     "data": {
      "text/plain": [
       "0    9310\n",
       "1      66\n",
       "Name: NOT_IN_40_0C, dtype: int64"
      ]
     },
     "execution_count": 32,
     "metadata": {},
     "output_type": "execute_result"
    }
   ],
   "source": [
    "l.NOT_IN_40_0C.value_counts()"
   ]
  },
  {
   "cell_type": "code",
   "execution_count": 32,
   "metadata": {},
   "outputs": [
    {
     "data": {
      "text/plain": [
       "0.004421320894656489"
      ]
     },
     "execution_count": 32,
     "metadata": {},
     "output_type": "execute_result"
    }
   ],
   "source": [
    "np.var(l.loc[l.PIECE_ID.isin(data1.id1.unique().tolist())]['PLT_COOL_SPD_TAIL_AVG'])"
   ]
  },
  {
   "cell_type": "code",
   "execution_count": 6,
   "metadata": {
    "collapsed": true
   },
   "outputs": [],
   "source": [
    "#sort by time\n",
    "# dist btw lists\n",
    "#время охлаждения\n",
    "df = pd.concat([data1, data2],ignore_index=1)"
   ]
  }
 ],
 "metadata": {
  "anaconda-cloud": {},
  "kernelspec": {
   "display_name": "Python [default]",
   "language": "python",
   "name": "python2"
  },
  "language_info": {
   "codemirror_mode": {
    "name": "ipython",
    "version": 2
   },
   "file_extension": ".py",
   "mimetype": "text/x-python",
   "name": "python",
   "nbconvert_exporter": "python",
   "pygments_lexer": "ipython2",
   "version": "2.7.13"
  }
 },
 "nbformat": 4,
 "nbformat_minor": 2
}
